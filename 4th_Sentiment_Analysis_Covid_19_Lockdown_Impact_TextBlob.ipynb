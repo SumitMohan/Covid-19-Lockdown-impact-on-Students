{
  "nbformat": 4,
  "nbformat_minor": 0,
  "metadata": {
    "colab": {
      "name": "4th Sentiment Analysis Covid-19 Lockdown Impact TextBlob.ipynb",
      "provenance": [],
      "collapsed_sections": [],
      "authorship_tag": "ABX9TyMP6whB9EiB+CSbEJ0iDED9",
      "include_colab_link": true
    },
    "kernelspec": {
      "display_name": "Python 3",
      "name": "python3"
    },
    "language_info": {
      "name": "python"
    },
    "widgets": {
      "application/vnd.jupyter.widget-state+json": {
        "49e9655df9784d5ab141dd131b1aa2ce": {
          "model_module": "@jupyter-widgets/controls",
          "model_name": "HBoxModel",
          "model_module_version": "1.5.0",
          "state": {
            "_view_name": "HBoxView",
            "_dom_classes": [],
            "_model_name": "HBoxModel",
            "_view_module": "@jupyter-widgets/controls",
            "_model_module_version": "1.5.0",
            "_view_count": null,
            "_view_module_version": "1.5.0",
            "box_style": "",
            "layout": "IPY_MODEL_64036d2da7824078b838e2f76dc26a91",
            "_model_module": "@jupyter-widgets/controls",
            "children": [
              "IPY_MODEL_889347d7ff7a490eaa5ed9403ee5a369",
              "IPY_MODEL_53af2f9e118f435aa7b850d91270c6ad",
              "IPY_MODEL_3c272047963b4bf3af56eb03e1dc419e"
            ]
          }
        },
        "64036d2da7824078b838e2f76dc26a91": {
          "model_module": "@jupyter-widgets/base",
          "model_name": "LayoutModel",
          "model_module_version": "1.2.0",
          "state": {
            "_view_name": "LayoutView",
            "grid_template_rows": null,
            "right": null,
            "justify_content": null,
            "_view_module": "@jupyter-widgets/base",
            "overflow": null,
            "_model_module_version": "1.2.0",
            "_view_count": null,
            "flex_flow": null,
            "width": null,
            "min_width": null,
            "border": null,
            "align_items": null,
            "bottom": null,
            "_model_module": "@jupyter-widgets/base",
            "top": null,
            "grid_column": null,
            "overflow_y": null,
            "overflow_x": null,
            "grid_auto_flow": null,
            "grid_area": null,
            "grid_template_columns": null,
            "flex": null,
            "_model_name": "LayoutModel",
            "justify_items": null,
            "grid_row": null,
            "max_height": null,
            "align_content": null,
            "visibility": null,
            "align_self": null,
            "height": null,
            "min_height": null,
            "padding": null,
            "grid_auto_rows": null,
            "grid_gap": null,
            "max_width": null,
            "order": null,
            "_view_module_version": "1.2.0",
            "grid_template_areas": null,
            "object_position": null,
            "object_fit": null,
            "grid_auto_columns": null,
            "margin": null,
            "display": null,
            "left": null
          }
        },
        "889347d7ff7a490eaa5ed9403ee5a369": {
          "model_module": "@jupyter-widgets/controls",
          "model_name": "HTMLModel",
          "model_module_version": "1.5.0",
          "state": {
            "_view_name": "HTMLView",
            "style": "IPY_MODEL_e283c4bf151042db8f452d2a1c8cd434",
            "_dom_classes": [],
            "description": "",
            "_model_name": "HTMLModel",
            "placeholder": "​",
            "_view_module": "@jupyter-widgets/controls",
            "_model_module_version": "1.5.0",
            "value": "Downloading https://raw.githubusercontent.com/stanfordnlp/stanza-resources/main/resources_1.2.2.json: ",
            "_view_count": null,
            "_view_module_version": "1.5.0",
            "description_tooltip": null,
            "_model_module": "@jupyter-widgets/controls",
            "layout": "IPY_MODEL_af854e1bbdd040bf8c080d97717a63b5"
          }
        },
        "53af2f9e118f435aa7b850d91270c6ad": {
          "model_module": "@jupyter-widgets/controls",
          "model_name": "FloatProgressModel",
          "model_module_version": "1.5.0",
          "state": {
            "_view_name": "ProgressView",
            "style": "IPY_MODEL_5f60f249fd8f498fbb0677e548287ba0",
            "_dom_classes": [],
            "description": "",
            "_model_name": "FloatProgressModel",
            "bar_style": "success",
            "max": 24144,
            "_view_module": "@jupyter-widgets/controls",
            "_model_module_version": "1.5.0",
            "value": 24144,
            "_view_count": null,
            "_view_module_version": "1.5.0",
            "orientation": "horizontal",
            "min": 0,
            "description_tooltip": null,
            "_model_module": "@jupyter-widgets/controls",
            "layout": "IPY_MODEL_c134b8fb8c6f4a718680fada73e7e914"
          }
        },
        "3c272047963b4bf3af56eb03e1dc419e": {
          "model_module": "@jupyter-widgets/controls",
          "model_name": "HTMLModel",
          "model_module_version": "1.5.0",
          "state": {
            "_view_name": "HTMLView",
            "style": "IPY_MODEL_3f89b3e501be4bbea0aff6e9d2a09bfe",
            "_dom_classes": [],
            "description": "",
            "_model_name": "HTMLModel",
            "placeholder": "​",
            "_view_module": "@jupyter-widgets/controls",
            "_model_module_version": "1.5.0",
            "value": " 140k/? [00:00&lt;00:00, 3.26MB/s]",
            "_view_count": null,
            "_view_module_version": "1.5.0",
            "description_tooltip": null,
            "_model_module": "@jupyter-widgets/controls",
            "layout": "IPY_MODEL_188d6c5005c04551811179242cd60d13"
          }
        },
        "e283c4bf151042db8f452d2a1c8cd434": {
          "model_module": "@jupyter-widgets/controls",
          "model_name": "DescriptionStyleModel",
          "model_module_version": "1.5.0",
          "state": {
            "_view_name": "StyleView",
            "_model_name": "DescriptionStyleModel",
            "description_width": "",
            "_view_module": "@jupyter-widgets/base",
            "_model_module_version": "1.5.0",
            "_view_count": null,
            "_view_module_version": "1.2.0",
            "_model_module": "@jupyter-widgets/controls"
          }
        },
        "af854e1bbdd040bf8c080d97717a63b5": {
          "model_module": "@jupyter-widgets/base",
          "model_name": "LayoutModel",
          "model_module_version": "1.2.0",
          "state": {
            "_view_name": "LayoutView",
            "grid_template_rows": null,
            "right": null,
            "justify_content": null,
            "_view_module": "@jupyter-widgets/base",
            "overflow": null,
            "_model_module_version": "1.2.0",
            "_view_count": null,
            "flex_flow": null,
            "width": null,
            "min_width": null,
            "border": null,
            "align_items": null,
            "bottom": null,
            "_model_module": "@jupyter-widgets/base",
            "top": null,
            "grid_column": null,
            "overflow_y": null,
            "overflow_x": null,
            "grid_auto_flow": null,
            "grid_area": null,
            "grid_template_columns": null,
            "flex": null,
            "_model_name": "LayoutModel",
            "justify_items": null,
            "grid_row": null,
            "max_height": null,
            "align_content": null,
            "visibility": null,
            "align_self": null,
            "height": null,
            "min_height": null,
            "padding": null,
            "grid_auto_rows": null,
            "grid_gap": null,
            "max_width": null,
            "order": null,
            "_view_module_version": "1.2.0",
            "grid_template_areas": null,
            "object_position": null,
            "object_fit": null,
            "grid_auto_columns": null,
            "margin": null,
            "display": null,
            "left": null
          }
        },
        "5f60f249fd8f498fbb0677e548287ba0": {
          "model_module": "@jupyter-widgets/controls",
          "model_name": "ProgressStyleModel",
          "model_module_version": "1.5.0",
          "state": {
            "_view_name": "StyleView",
            "_model_name": "ProgressStyleModel",
            "description_width": "",
            "_view_module": "@jupyter-widgets/base",
            "_model_module_version": "1.5.0",
            "_view_count": null,
            "_view_module_version": "1.2.0",
            "bar_color": null,
            "_model_module": "@jupyter-widgets/controls"
          }
        },
        "c134b8fb8c6f4a718680fada73e7e914": {
          "model_module": "@jupyter-widgets/base",
          "model_name": "LayoutModel",
          "model_module_version": "1.2.0",
          "state": {
            "_view_name": "LayoutView",
            "grid_template_rows": null,
            "right": null,
            "justify_content": null,
            "_view_module": "@jupyter-widgets/base",
            "overflow": null,
            "_model_module_version": "1.2.0",
            "_view_count": null,
            "flex_flow": null,
            "width": null,
            "min_width": null,
            "border": null,
            "align_items": null,
            "bottom": null,
            "_model_module": "@jupyter-widgets/base",
            "top": null,
            "grid_column": null,
            "overflow_y": null,
            "overflow_x": null,
            "grid_auto_flow": null,
            "grid_area": null,
            "grid_template_columns": null,
            "flex": null,
            "_model_name": "LayoutModel",
            "justify_items": null,
            "grid_row": null,
            "max_height": null,
            "align_content": null,
            "visibility": null,
            "align_self": null,
            "height": null,
            "min_height": null,
            "padding": null,
            "grid_auto_rows": null,
            "grid_gap": null,
            "max_width": null,
            "order": null,
            "_view_module_version": "1.2.0",
            "grid_template_areas": null,
            "object_position": null,
            "object_fit": null,
            "grid_auto_columns": null,
            "margin": null,
            "display": null,
            "left": null
          }
        },
        "3f89b3e501be4bbea0aff6e9d2a09bfe": {
          "model_module": "@jupyter-widgets/controls",
          "model_name": "DescriptionStyleModel",
          "model_module_version": "1.5.0",
          "state": {
            "_view_name": "StyleView",
            "_model_name": "DescriptionStyleModel",
            "description_width": "",
            "_view_module": "@jupyter-widgets/base",
            "_model_module_version": "1.5.0",
            "_view_count": null,
            "_view_module_version": "1.2.0",
            "_model_module": "@jupyter-widgets/controls"
          }
        },
        "188d6c5005c04551811179242cd60d13": {
          "model_module": "@jupyter-widgets/base",
          "model_name": "LayoutModel",
          "model_module_version": "1.2.0",
          "state": {
            "_view_name": "LayoutView",
            "grid_template_rows": null,
            "right": null,
            "justify_content": null,
            "_view_module": "@jupyter-widgets/base",
            "overflow": null,
            "_model_module_version": "1.2.0",
            "_view_count": null,
            "flex_flow": null,
            "width": null,
            "min_width": null,
            "border": null,
            "align_items": null,
            "bottom": null,
            "_model_module": "@jupyter-widgets/base",
            "top": null,
            "grid_column": null,
            "overflow_y": null,
            "overflow_x": null,
            "grid_auto_flow": null,
            "grid_area": null,
            "grid_template_columns": null,
            "flex": null,
            "_model_name": "LayoutModel",
            "justify_items": null,
            "grid_row": null,
            "max_height": null,
            "align_content": null,
            "visibility": null,
            "align_self": null,
            "height": null,
            "min_height": null,
            "padding": null,
            "grid_auto_rows": null,
            "grid_gap": null,
            "max_width": null,
            "order": null,
            "_view_module_version": "1.2.0",
            "grid_template_areas": null,
            "object_position": null,
            "object_fit": null,
            "grid_auto_columns": null,
            "margin": null,
            "display": null,
            "left": null
          }
        }
      }
    }
  },
  "cells": [
    {
      "cell_type": "markdown",
      "metadata": {
        "id": "view-in-github",
        "colab_type": "text"
      },
      "source": [
        "<a href=\"https://colab.research.google.com/github/SumitMohan/Covid-19-Lockdown-impact-on-Students/blob/main/4th_Sentiment_Analysis_Covid_19_Lockdown_Impact_TextBlob.ipynb\" target=\"_parent\"><img src=\"https://colab.research.google.com/assets/colab-badge.svg\" alt=\"Open In Colab\"/></a>"
      ]
    },
    {
      "cell_type": "code",
      "metadata": {
        "colab": {
          "base_uri": "https://localhost:8080/"
        },
        "id": "MonJvtv9JMWk",
        "outputId": "330340d9-c202-490e-a128-17774fb1f8c7"
      },
      "source": [
        "#we can install TextBlob \n",
        "!pip install textblob"
      ],
      "execution_count": 1,
      "outputs": [
        {
          "output_type": "stream",
          "name": "stdout",
          "text": [
            "Requirement already satisfied: textblob in /usr/local/lib/python3.7/dist-packages (0.15.3)\n",
            "Requirement already satisfied: nltk>=3.1 in /usr/local/lib/python3.7/dist-packages (from textblob) (3.6.2)\n",
            "Requirement already satisfied: regex in /usr/local/lib/python3.7/dist-packages (from nltk>=3.1->textblob) (2019.12.20)\n",
            "Requirement already satisfied: click in /usr/local/lib/python3.7/dist-packages (from nltk>=3.1->textblob) (7.1.2)\n",
            "Requirement already satisfied: tqdm in /usr/local/lib/python3.7/dist-packages (from nltk>=3.1->textblob) (4.62.0)\n",
            "Requirement already satisfied: joblib in /usr/local/lib/python3.7/dist-packages (from nltk>=3.1->textblob) (1.0.1)\n"
          ]
        }
      ]
    },
    {
      "cell_type": "code",
      "metadata": {
        "colab": {
          "base_uri": "https://localhost:8080/"
        },
        "id": "n-TIfHgjJfXO",
        "outputId": "424c278d-fc16-4f7c-fb66-c21f7928b513"
      },
      "source": [
        "#for cleaning the responses\n",
        "!pip install Texthero"
      ],
      "execution_count": 2,
      "outputs": [
        {
          "output_type": "stream",
          "name": "stdout",
          "text": [
            "Requirement already satisfied: Texthero in /usr/local/lib/python3.7/dist-packages (1.1.0)\n",
            "Requirement already satisfied: spacy<3.0.0 in /usr/local/lib/python3.7/dist-packages (from Texthero) (2.2.4)\n",
            "Requirement already satisfied: numpy>=1.17 in /usr/local/lib/python3.7/dist-packages (from Texthero) (1.19.5)\n",
            "Requirement already satisfied: tqdm>=4.3 in /usr/local/lib/python3.7/dist-packages (from Texthero) (4.62.0)\n",
            "Requirement already satisfied: wordcloud>=1.5.0 in /usr/local/lib/python3.7/dist-packages (from Texthero) (1.5.0)\n",
            "Requirement already satisfied: plotly>=4.2.0 in /usr/local/lib/python3.7/dist-packages (from Texthero) (4.4.1)\n",
            "Requirement already satisfied: gensim<4.0,>=3.6.0 in /usr/local/lib/python3.7/dist-packages (from Texthero) (3.6.0)\n",
            "Requirement already satisfied: unidecode>=1.1.1 in /usr/local/lib/python3.7/dist-packages (from Texthero) (1.2.0)\n",
            "Requirement already satisfied: nltk>=3.3 in /usr/local/lib/python3.7/dist-packages (from Texthero) (3.6.2)\n",
            "Requirement already satisfied: pandas>=1.0.2 in /usr/local/lib/python3.7/dist-packages (from Texthero) (1.1.5)\n",
            "Requirement already satisfied: scikit-learn>=0.22 in /usr/local/lib/python3.7/dist-packages (from Texthero) (0.22.2.post1)\n",
            "Requirement already satisfied: matplotlib>=3.1.0 in /usr/local/lib/python3.7/dist-packages (from Texthero) (3.2.2)\n",
            "Requirement already satisfied: six>=1.5.0 in /usr/local/lib/python3.7/dist-packages (from gensim<4.0,>=3.6.0->Texthero) (1.15.0)\n",
            "Requirement already satisfied: scipy>=0.18.1 in /usr/local/lib/python3.7/dist-packages (from gensim<4.0,>=3.6.0->Texthero) (1.4.1)\n",
            "Requirement already satisfied: smart-open>=1.2.1 in /usr/local/lib/python3.7/dist-packages (from gensim<4.0,>=3.6.0->Texthero) (5.1.0)\n",
            "Requirement already satisfied: cycler>=0.10 in /usr/local/lib/python3.7/dist-packages (from matplotlib>=3.1.0->Texthero) (0.10.0)\n",
            "Requirement already satisfied: kiwisolver>=1.0.1 in /usr/local/lib/python3.7/dist-packages (from matplotlib>=3.1.0->Texthero) (1.3.1)\n",
            "Requirement already satisfied: python-dateutil>=2.1 in /usr/local/lib/python3.7/dist-packages (from matplotlib>=3.1.0->Texthero) (2.8.2)\n",
            "Requirement already satisfied: pyparsing!=2.0.4,!=2.1.2,!=2.1.6,>=2.0.1 in /usr/local/lib/python3.7/dist-packages (from matplotlib>=3.1.0->Texthero) (2.4.7)\n",
            "Requirement already satisfied: joblib in /usr/local/lib/python3.7/dist-packages (from nltk>=3.3->Texthero) (1.0.1)\n",
            "Requirement already satisfied: regex in /usr/local/lib/python3.7/dist-packages (from nltk>=3.3->Texthero) (2019.12.20)\n",
            "Requirement already satisfied: click in /usr/local/lib/python3.7/dist-packages (from nltk>=3.3->Texthero) (7.1.2)\n",
            "Requirement already satisfied: pytz>=2017.2 in /usr/local/lib/python3.7/dist-packages (from pandas>=1.0.2->Texthero) (2018.9)\n",
            "Requirement already satisfied: retrying>=1.3.3 in /usr/local/lib/python3.7/dist-packages (from plotly>=4.2.0->Texthero) (1.3.3)\n",
            "Requirement already satisfied: srsly<1.1.0,>=1.0.2 in /usr/local/lib/python3.7/dist-packages (from spacy<3.0.0->Texthero) (1.0.5)\n",
            "Requirement already satisfied: catalogue<1.1.0,>=0.0.7 in /usr/local/lib/python3.7/dist-packages (from spacy<3.0.0->Texthero) (1.0.0)\n",
            "Requirement already satisfied: setuptools in /usr/local/lib/python3.7/dist-packages (from spacy<3.0.0->Texthero) (57.4.0)\n",
            "Requirement already satisfied: blis<0.5.0,>=0.4.0 in /usr/local/lib/python3.7/dist-packages (from spacy<3.0.0->Texthero) (0.4.1)\n",
            "Requirement already satisfied: plac<1.2.0,>=0.9.6 in /usr/local/lib/python3.7/dist-packages (from spacy<3.0.0->Texthero) (1.1.3)\n",
            "Requirement already satisfied: requests<3.0.0,>=2.13.0 in /usr/local/lib/python3.7/dist-packages (from spacy<3.0.0->Texthero) (2.23.0)\n",
            "Requirement already satisfied: murmurhash<1.1.0,>=0.28.0 in /usr/local/lib/python3.7/dist-packages (from spacy<3.0.0->Texthero) (1.0.5)\n",
            "Requirement already satisfied: preshed<3.1.0,>=3.0.2 in /usr/local/lib/python3.7/dist-packages (from spacy<3.0.0->Texthero) (3.0.5)\n",
            "Requirement already satisfied: wasabi<1.1.0,>=0.4.0 in /usr/local/lib/python3.7/dist-packages (from spacy<3.0.0->Texthero) (0.8.2)\n",
            "Requirement already satisfied: thinc==7.4.0 in /usr/local/lib/python3.7/dist-packages (from spacy<3.0.0->Texthero) (7.4.0)\n",
            "Requirement already satisfied: cymem<2.1.0,>=2.0.2 in /usr/local/lib/python3.7/dist-packages (from spacy<3.0.0->Texthero) (2.0.5)\n",
            "Requirement already satisfied: importlib-metadata>=0.20 in /usr/local/lib/python3.7/dist-packages (from catalogue<1.1.0,>=0.0.7->spacy<3.0.0->Texthero) (4.6.4)\n",
            "Requirement already satisfied: zipp>=0.5 in /usr/local/lib/python3.7/dist-packages (from importlib-metadata>=0.20->catalogue<1.1.0,>=0.0.7->spacy<3.0.0->Texthero) (3.5.0)\n",
            "Requirement already satisfied: typing-extensions>=3.6.4 in /usr/local/lib/python3.7/dist-packages (from importlib-metadata>=0.20->catalogue<1.1.0,>=0.0.7->spacy<3.0.0->Texthero) (3.7.4.3)\n",
            "Requirement already satisfied: certifi>=2017.4.17 in /usr/local/lib/python3.7/dist-packages (from requests<3.0.0,>=2.13.0->spacy<3.0.0->Texthero) (2021.5.30)\n",
            "Requirement already satisfied: chardet<4,>=3.0.2 in /usr/local/lib/python3.7/dist-packages (from requests<3.0.0,>=2.13.0->spacy<3.0.0->Texthero) (3.0.4)\n",
            "Requirement already satisfied: urllib3!=1.25.0,!=1.25.1,<1.26,>=1.21.1 in /usr/local/lib/python3.7/dist-packages (from requests<3.0.0,>=2.13.0->spacy<3.0.0->Texthero) (1.24.3)\n",
            "Requirement already satisfied: idna<3,>=2.5 in /usr/local/lib/python3.7/dist-packages (from requests<3.0.0,>=2.13.0->spacy<3.0.0->Texthero) (2.10)\n",
            "Requirement already satisfied: pillow in /usr/local/lib/python3.7/dist-packages (from wordcloud>=1.5.0->Texthero) (7.1.2)\n"
          ]
        }
      ]
    },
    {
      "cell_type": "code",
      "metadata": {
        "id": "Thj8p8fPJfmR"
      },
      "source": [
        "#importing TextBlob\n",
        "import textblob\n",
        "from textblob import TextBlob"
      ],
      "execution_count": 3,
      "outputs": []
    },
    {
      "cell_type": "code",
      "metadata": {
        "id": "9wN0kGTQJfwO"
      },
      "source": [
        "import numpy as np\n",
        "import matplotlib.mlab as mlab\n",
        "import matplotlib.pyplot as plt\n",
        "import pandas as pd\n",
        "#Texthero for data cleaning\n",
        "import texthero as hero\n",
        "import warnings\n",
        "warnings.filterwarnings('ignore')"
      ],
      "execution_count": 4,
      "outputs": []
    },
    {
      "cell_type": "code",
      "metadata": {
        "id": "657BoSTTJf0D"
      },
      "source": [
        "#Loading the T Dataset\n",
        "data= pd.read_csv('Responses.csv')"
      ],
      "execution_count": 5,
      "outputs": []
    },
    {
      "cell_type": "code",
      "metadata": {
        "colab": {
          "base_uri": "https://localhost:8080/",
          "height": 802
        },
        "id": "uzKMyZw2Jf29",
        "outputId": "5ff45229-1b44-4bdc-cce6-da241fe6425d"
      },
      "source": [
        "data.head()"
      ],
      "execution_count": 6,
      "outputs": [
        {
          "output_type": "execute_result",
          "data": {
            "text/html": [
              "<div>\n",
              "<style scoped>\n",
              "    .dataframe tbody tr th:only-of-type {\n",
              "        vertical-align: middle;\n",
              "    }\n",
              "\n",
              "    .dataframe tbody tr th {\n",
              "        vertical-align: top;\n",
              "    }\n",
              "\n",
              "    .dataframe thead th {\n",
              "        text-align: right;\n",
              "    }\n",
              "</style>\n",
              "<table border=\"1\" class=\"dataframe\">\n",
              "  <thead>\n",
              "    <tr style=\"text-align: right;\">\n",
              "      <th></th>\n",
              "      <th>Resp ID</th>\n",
              "      <th>Region of residence</th>\n",
              "      <th>Age</th>\n",
              "      <th>You are?(Education)</th>\n",
              "      <th>Time spent on Online Class</th>\n",
              "      <th>Rating of Online Class experience</th>\n",
              "      <th>Medium for online class</th>\n",
              "      <th>Time spent on self study</th>\n",
              "      <th>Time spent on fitness</th>\n",
              "      <th>Time spent on sleep</th>\n",
              "      <th>Time spent on social media</th>\n",
              "      <th>Prefered social media platform</th>\n",
              "      <th>Time spent on TV</th>\n",
              "      <th>Number of meals per day</th>\n",
              "      <th>Change in your weight</th>\n",
              "      <th>Health issue during lockdown</th>\n",
              "      <th>Stress busters</th>\n",
              "      <th>Time utilized</th>\n",
              "      <th>Do you find yourself more connected with your family, close friends , relatives  ?</th>\n",
              "      <th>What you miss the most</th>\n",
              "      <th>Responses</th>\n",
              "    </tr>\n",
              "  </thead>\n",
              "  <tbody>\n",
              "    <tr>\n",
              "      <th>0</th>\n",
              "      <td>1</td>\n",
              "      <td>Kanpur</td>\n",
              "      <td>14</td>\n",
              "      <td>High-School</td>\n",
              "      <td>3.0</td>\n",
              "      <td>Good</td>\n",
              "      <td>Smartphone or Laptop/Desktop</td>\n",
              "      <td>2.0</td>\n",
              "      <td>0.0</td>\n",
              "      <td>6.0</td>\n",
              "      <td>1.0</td>\n",
              "      <td>Whatsapp</td>\n",
              "      <td>1</td>\n",
              "      <td>1</td>\n",
              "      <td>Increased</td>\n",
              "      <td>NO</td>\n",
              "      <td>Listening to music</td>\n",
              "      <td>YES</td>\n",
              "      <td>YES</td>\n",
              "      <td>School/college</td>\n",
              "      <td>Who will responsible for students carrier beca...</td>\n",
              "    </tr>\n",
              "    <tr>\n",
              "      <th>1</th>\n",
              "      <td>2</td>\n",
              "      <td>Kolkata</td>\n",
              "      <td>23</td>\n",
              "      <td>Bachelor Degree</td>\n",
              "      <td>5.0</td>\n",
              "      <td>Average</td>\n",
              "      <td>Smartphone</td>\n",
              "      <td>5.0</td>\n",
              "      <td>1.0</td>\n",
              "      <td>8.0</td>\n",
              "      <td>1.0</td>\n",
              "      <td>Whatsapp</td>\n",
              "      <td>2</td>\n",
              "      <td>3</td>\n",
              "      <td>Remain Constant</td>\n",
              "      <td>NO</td>\n",
              "      <td>gardening cartoon</td>\n",
              "      <td>YES</td>\n",
              "      <td>YES</td>\n",
              "      <td>Roaming around freely</td>\n",
              "      <td>Taking ongoing online classes is quite tedious...</td>\n",
              "    </tr>\n",
              "    <tr>\n",
              "      <th>2</th>\n",
              "      <td>3</td>\n",
              "      <td>Hyderabad</td>\n",
              "      <td>13</td>\n",
              "      <td>Secondary</td>\n",
              "      <td>3.0</td>\n",
              "      <td>Excellent</td>\n",
              "      <td>Smartphone</td>\n",
              "      <td>2.0</td>\n",
              "      <td>0.0</td>\n",
              "      <td>8.0</td>\n",
              "      <td>1.0</td>\n",
              "      <td>Youtube</td>\n",
              "      <td>0</td>\n",
              "      <td>3</td>\n",
              "      <td>Remain Constant</td>\n",
              "      <td>NO</td>\n",
              "      <td>Listening to music</td>\n",
              "      <td>YES</td>\n",
              "      <td>YES</td>\n",
              "      <td>Friends , relatives</td>\n",
              "      <td>Financial problem no network coverage</td>\n",
              "    </tr>\n",
              "    <tr>\n",
              "      <th>3</th>\n",
              "      <td>4</td>\n",
              "      <td>Roorkee</td>\n",
              "      <td>13</td>\n",
              "      <td>Secondary</td>\n",
              "      <td>4.0</td>\n",
              "      <td>Good</td>\n",
              "      <td>Smartphone</td>\n",
              "      <td>4.0</td>\n",
              "      <td>1.0</td>\n",
              "      <td>8.0</td>\n",
              "      <td>1.0</td>\n",
              "      <td>Whatsapp</td>\n",
              "      <td>2</td>\n",
              "      <td>3</td>\n",
              "      <td>Decreased</td>\n",
              "      <td>NO</td>\n",
              "      <td>Reading</td>\n",
              "      <td>YES</td>\n",
              "      <td>YES</td>\n",
              "      <td>School/college</td>\n",
              "      <td>In this pandemic no hope from anyone nobody ca...</td>\n",
              "    </tr>\n",
              "    <tr>\n",
              "      <th>4</th>\n",
              "      <td>5</td>\n",
              "      <td>Kanpur</td>\n",
              "      <td>19</td>\n",
              "      <td>Intermediate</td>\n",
              "      <td>4.0</td>\n",
              "      <td>Very poor</td>\n",
              "      <td>Laptop/Desktop</td>\n",
              "      <td>3.0</td>\n",
              "      <td>1.0</td>\n",
              "      <td>8.0</td>\n",
              "      <td>3.0</td>\n",
              "      <td>Whatsapp</td>\n",
              "      <td>2</td>\n",
              "      <td>3</td>\n",
              "      <td>Increased</td>\n",
              "      <td>NO</td>\n",
              "      <td>Meditation</td>\n",
              "      <td>YES</td>\n",
              "      <td>YES</td>\n",
              "      <td>School/college</td>\n",
              "      <td>however my college is not helping/ demanding f...</td>\n",
              "    </tr>\n",
              "  </tbody>\n",
              "</table>\n",
              "</div>"
            ],
            "text/plain": [
              "   Resp ID  ...                                          Responses\n",
              "0        1  ...  Who will responsible for students carrier beca...\n",
              "1        2  ...  Taking ongoing online classes is quite tedious...\n",
              "2        3  ...             Financial problem no network coverage \n",
              "3        4  ...  In this pandemic no hope from anyone nobody ca...\n",
              "4        5  ...  however my college is not helping/ demanding f...\n",
              "\n",
              "[5 rows x 21 columns]"
            ]
          },
          "metadata": {},
          "execution_count": 6
        }
      ]
    },
    {
      "cell_type": "code",
      "metadata": {
        "colab": {
          "base_uri": "https://localhost:8080/",
          "height": 204
        },
        "id": "z947ecxQJf5p",
        "outputId": "1f10713a-2ea9-45a0-ef35-72c3a739088b"
      },
      "source": [
        "#we need only Tweet Text\n",
        "df= data[['Responses']]\n",
        "df.head(5)"
      ],
      "execution_count": 7,
      "outputs": [
        {
          "output_type": "execute_result",
          "data": {
            "text/html": [
              "<div>\n",
              "<style scoped>\n",
              "    .dataframe tbody tr th:only-of-type {\n",
              "        vertical-align: middle;\n",
              "    }\n",
              "\n",
              "    .dataframe tbody tr th {\n",
              "        vertical-align: top;\n",
              "    }\n",
              "\n",
              "    .dataframe thead th {\n",
              "        text-align: right;\n",
              "    }\n",
              "</style>\n",
              "<table border=\"1\" class=\"dataframe\">\n",
              "  <thead>\n",
              "    <tr style=\"text-align: right;\">\n",
              "      <th></th>\n",
              "      <th>Responses</th>\n",
              "    </tr>\n",
              "  </thead>\n",
              "  <tbody>\n",
              "    <tr>\n",
              "      <th>0</th>\n",
              "      <td>Who will responsible for students carrier beca...</td>\n",
              "    </tr>\n",
              "    <tr>\n",
              "      <th>1</th>\n",
              "      <td>Taking ongoing online classes is quite tedious...</td>\n",
              "    </tr>\n",
              "    <tr>\n",
              "      <th>2</th>\n",
              "      <td>Financial problem no network coverage</td>\n",
              "    </tr>\n",
              "    <tr>\n",
              "      <th>3</th>\n",
              "      <td>In this pandemic no hope from anyone nobody ca...</td>\n",
              "    </tr>\n",
              "    <tr>\n",
              "      <th>4</th>\n",
              "      <td>however my college is not helping/ demanding f...</td>\n",
              "    </tr>\n",
              "  </tbody>\n",
              "</table>\n",
              "</div>"
            ],
            "text/plain": [
              "                                           Responses\n",
              "0  Who will responsible for students carrier beca...\n",
              "1  Taking ongoing online classes is quite tedious...\n",
              "2             Financial problem no network coverage \n",
              "3  In this pandemic no hope from anyone nobody ca...\n",
              "4  however my college is not helping/ demanding f..."
            ]
          },
          "metadata": {},
          "execution_count": 7
        }
      ]
    },
    {
      "cell_type": "code",
      "metadata": {
        "colab": {
          "base_uri": "https://localhost:8080/",
          "height": 359
        },
        "id": "xPCxZ76rJf8i",
        "outputId": "8769ff90-abdd-4bff-8157-e83f9fc7b398"
      },
      "source": [
        "df['CleanData']=hero.clean(df['Responses'])\n",
        "\n",
        "df.head(10)"
      ],
      "execution_count": 8,
      "outputs": [
        {
          "output_type": "execute_result",
          "data": {
            "text/html": [
              "<div>\n",
              "<style scoped>\n",
              "    .dataframe tbody tr th:only-of-type {\n",
              "        vertical-align: middle;\n",
              "    }\n",
              "\n",
              "    .dataframe tbody tr th {\n",
              "        vertical-align: top;\n",
              "    }\n",
              "\n",
              "    .dataframe thead th {\n",
              "        text-align: right;\n",
              "    }\n",
              "</style>\n",
              "<table border=\"1\" class=\"dataframe\">\n",
              "  <thead>\n",
              "    <tr style=\"text-align: right;\">\n",
              "      <th></th>\n",
              "      <th>Responses</th>\n",
              "      <th>CleanData</th>\n",
              "    </tr>\n",
              "  </thead>\n",
              "  <tbody>\n",
              "    <tr>\n",
              "      <th>0</th>\n",
              "      <td>Who will responsible for students carrier beca...</td>\n",
              "      <td>responsible students carrier two lockdown stud...</td>\n",
              "    </tr>\n",
              "    <tr>\n",
              "      <th>1</th>\n",
              "      <td>Taking ongoing online classes is quite tedious...</td>\n",
              "      <td>taking ongoing online classes quite tedious an...</td>\n",
              "    </tr>\n",
              "    <tr>\n",
              "      <th>2</th>\n",
              "      <td>Financial problem no network coverage</td>\n",
              "      <td>financial problem network coverage</td>\n",
              "    </tr>\n",
              "    <tr>\n",
              "      <th>3</th>\n",
              "      <td>In this pandemic no hope from anyone nobody ca...</td>\n",
              "      <td>pandemic hope anyone nobody help situation eve...</td>\n",
              "    </tr>\n",
              "    <tr>\n",
              "      <th>4</th>\n",
              "      <td>however my college is not helping/ demanding f...</td>\n",
              "      <td>however college helping demanding extra due fe...</td>\n",
              "    </tr>\n",
              "    <tr>\n",
              "      <th>5</th>\n",
              "      <td>vaccine is avaiable now so why can not take ac...</td>\n",
              "      <td>vaccine avaiable take action save carrer</td>\n",
              "    </tr>\n",
              "    <tr>\n",
              "      <th>6</th>\n",
              "      <td>sometimes I feel this is the life that I am no...</td>\n",
              "      <td>sometimes feel life enjoying</td>\n",
              "    </tr>\n",
              "    <tr>\n",
              "      <th>7</th>\n",
              "      <td>Relatives are not able to Help.</td>\n",
              "      <td>relatives able help</td>\n",
              "    </tr>\n",
              "    <tr>\n",
              "      <th>8</th>\n",
              "      <td>Btech is all abot practical things…theory is n...</td>\n",
              "      <td>btech abot practical things...theory sufficient</td>\n",
              "    </tr>\n",
              "    <tr>\n",
              "      <th>9</th>\n",
              "      <td>I don't have laptop to study unable to attend ...</td>\n",
              "      <td>laptop study unable attend classes environment...</td>\n",
              "    </tr>\n",
              "  </tbody>\n",
              "</table>\n",
              "</div>"
            ],
            "text/plain": [
              "                                           Responses                                          CleanData\n",
              "0  Who will responsible for students carrier beca...  responsible students carrier two lockdown stud...\n",
              "1  Taking ongoing online classes is quite tedious...  taking ongoing online classes quite tedious an...\n",
              "2             Financial problem no network coverage                  financial problem network coverage\n",
              "3  In this pandemic no hope from anyone nobody ca...  pandemic hope anyone nobody help situation eve...\n",
              "4  however my college is not helping/ demanding f...  however college helping demanding extra due fe...\n",
              "5  vaccine is avaiable now so why can not take ac...           vaccine avaiable take action save carrer\n",
              "6  sometimes I feel this is the life that I am no...                       sometimes feel life enjoying\n",
              "7                    Relatives are not able to Help.                                relatives able help\n",
              "8  Btech is all abot practical things…theory is n...    btech abot practical things...theory sufficient\n",
              "9  I don't have laptop to study unable to attend ...  laptop study unable attend classes environment..."
            ]
          },
          "metadata": {},
          "execution_count": 8
        }
      ]
    },
    {
      "cell_type": "code",
      "metadata": {
        "colab": {
          "base_uri": "https://localhost:8080/"
        },
        "id": "Htshlo6PJgAA",
        "outputId": "4c2189ff-68e1-4565-c5e1-6fdd987aef47"
      },
      "source": [
        "text1 =  \"Vaccine is very effective\"\n",
        "blob1 = TextBlob(text1)\n",
        "blob1.sentiment"
      ],
      "execution_count": 9,
      "outputs": [
        {
          "output_type": "execute_result",
          "data": {
            "text/plain": [
              "Sentiment(polarity=0.78, subjectivity=1.0)"
            ]
          },
          "metadata": {},
          "execution_count": 9
        }
      ]
    },
    {
      "cell_type": "code",
      "metadata": {
        "colab": {
          "base_uri": "https://localhost:8080/"
        },
        "id": "WTrEFRO8JgDq",
        "outputId": "21ec131f-a377-470c-e8cd-1bc8a109df7f"
      },
      "source": [
        "text2 =  \"Vaccine is very bad lots of side effects\"\n",
        "blob2 = TextBlob(text2)\n",
        "blob2.sentiment"
      ],
      "execution_count": 10,
      "outputs": [
        {
          "output_type": "execute_result",
          "data": {
            "text/plain": [
              "Sentiment(polarity=-0.9099999999999998, subjectivity=0.8666666666666667)"
            ]
          },
          "metadata": {},
          "execution_count": 10
        }
      ]
    },
    {
      "cell_type": "code",
      "metadata": {
        "colab": {
          "base_uri": "https://localhost:8080/"
        },
        "id": "b_yXUgCxJgGf",
        "outputId": "5a780366-f3a3-42dd-eb86-f64ba1877005"
      },
      "source": [
        "text3 =  \"is Covaxin has approval  WHO\"\n",
        "blob3 = TextBlob(text3)\n",
        "blob3.sentiment"
      ],
      "execution_count": 11,
      "outputs": [
        {
          "output_type": "execute_result",
          "data": {
            "text/plain": [
              "Sentiment(polarity=0.0, subjectivity=0.0)"
            ]
          },
          "metadata": {},
          "execution_count": 11
        }
      ]
    },
    {
      "cell_type": "code",
      "metadata": {
        "id": "1YDIZ1oMJgJf"
      },
      "source": [
        "polarity_score = [] #Creating Empty List"
      ],
      "execution_count": 12,
      "outputs": []
    },
    {
      "cell_type": "code",
      "metadata": {
        "id": "Al8zDATLJgLk"
      },
      "source": [
        "for i in range(0,df.shape[0] ): #first record to lst record\n",
        "    score = TextBlob(df.iloc[i][1]) #selecting second column TextBlob Data\n",
        "    score1 = score.sentiment[0] #getting the sentiment score\n",
        "    polarity_score.append(score1) #adding each tweets polarity score into list"
      ],
      "execution_count": 13,
      "outputs": []
    },
    {
      "cell_type": "code",
      "metadata": {
        "colab": {
          "base_uri": "https://localhost:8080/",
          "height": 204
        },
        "id": "Q51YJ9xSJgN6",
        "outputId": "6e98da3d-fed8-4497-ae69-2a005a9296d2"
      },
      "source": [
        "df = pd.concat([df, pd.Series(polarity_score)]  , axis =1 )\n",
        "#dding polarity score into original dataframe\n",
        "df.head(5)"
      ],
      "execution_count": 14,
      "outputs": [
        {
          "output_type": "execute_result",
          "data": {
            "text/html": [
              "<div>\n",
              "<style scoped>\n",
              "    .dataframe tbody tr th:only-of-type {\n",
              "        vertical-align: middle;\n",
              "    }\n",
              "\n",
              "    .dataframe tbody tr th {\n",
              "        vertical-align: top;\n",
              "    }\n",
              "\n",
              "    .dataframe thead th {\n",
              "        text-align: right;\n",
              "    }\n",
              "</style>\n",
              "<table border=\"1\" class=\"dataframe\">\n",
              "  <thead>\n",
              "    <tr style=\"text-align: right;\">\n",
              "      <th></th>\n",
              "      <th>Responses</th>\n",
              "      <th>CleanData</th>\n",
              "      <th>0</th>\n",
              "    </tr>\n",
              "  </thead>\n",
              "  <tbody>\n",
              "    <tr>\n",
              "      <th>0</th>\n",
              "      <td>Who will responsible for students carrier beca...</td>\n",
              "      <td>responsible students carrier two lockdown stud...</td>\n",
              "      <td>0.100000</td>\n",
              "    </tr>\n",
              "    <tr>\n",
              "      <th>1</th>\n",
              "      <td>Taking ongoing online classes is quite tedious...</td>\n",
              "      <td>taking ongoing online classes quite tedious an...</td>\n",
              "      <td>-0.166667</td>\n",
              "    </tr>\n",
              "    <tr>\n",
              "      <th>2</th>\n",
              "      <td>Financial problem no network coverage</td>\n",
              "      <td>financial problem network coverage</td>\n",
              "      <td>0.000000</td>\n",
              "    </tr>\n",
              "    <tr>\n",
              "      <th>3</th>\n",
              "      <td>In this pandemic no hope from anyone nobody ca...</td>\n",
              "      <td>pandemic hope anyone nobody help situation eve...</td>\n",
              "      <td>0.000000</td>\n",
              "    </tr>\n",
              "    <tr>\n",
              "      <th>4</th>\n",
              "      <td>however my college is not helping/ demanding f...</td>\n",
              "      <td>however college helping demanding extra due fe...</td>\n",
              "      <td>-0.281250</td>\n",
              "    </tr>\n",
              "  </tbody>\n",
              "</table>\n",
              "</div>"
            ],
            "text/plain": [
              "                                           Responses  ...         0\n",
              "0  Who will responsible for students carrier beca...  ...  0.100000\n",
              "1  Taking ongoing online classes is quite tedious...  ... -0.166667\n",
              "2             Financial problem no network coverage   ...  0.000000\n",
              "3  In this pandemic no hope from anyone nobody ca...  ...  0.000000\n",
              "4  however my college is not helping/ demanding f...  ... -0.281250\n",
              "\n",
              "[5 rows x 3 columns]"
            ]
          },
          "metadata": {},
          "execution_count": 14
        }
      ]
    },
    {
      "cell_type": "code",
      "metadata": {
        "id": "-BHYLHwkJgQr"
      },
      "source": [
        "#Renaming added column\n",
        "df.rename(columns={df.columns[2]  :\"Sentiment\"}, inplace = True ) "
      ],
      "execution_count": 15,
      "outputs": []
    },
    {
      "cell_type": "code",
      "metadata": {
        "colab": {
          "base_uri": "https://localhost:8080/"
        },
        "id": "9KVWPFjfJgTk",
        "outputId": "e089cb9b-b6b3-4516-f5c6-8c223a08d849"
      },
      "source": [
        "#getting number of Positive Sentiments\n",
        "len(df[df.Sentiment > 0])"
      ],
      "execution_count": 16,
      "outputs": [
        {
          "output_type": "execute_result",
          "data": {
            "text/plain": [
              "239"
            ]
          },
          "metadata": {},
          "execution_count": 16
        }
      ]
    },
    {
      "cell_type": "code",
      "metadata": {
        "colab": {
          "base_uri": "https://localhost:8080/"
        },
        "id": "xraqsVEDJgWe",
        "outputId": "3f2f4850-adcb-4e31-da06-51f12f6f115d"
      },
      "source": [
        "#getting number of Negative Sentiments\n",
        "len(df[df.Sentiment <0])"
      ],
      "execution_count": 17,
      "outputs": [
        {
          "output_type": "execute_result",
          "data": {
            "text/plain": [
              "299"
            ]
          },
          "metadata": {},
          "execution_count": 17
        }
      ]
    },
    {
      "cell_type": "code",
      "metadata": {
        "colab": {
          "base_uri": "https://localhost:8080/"
        },
        "id": "CqXH3VvkJgZD",
        "outputId": "9368f5b5-d18f-472e-bfa8-0c0a236f862f"
      },
      "source": [
        "#Total No. of Tweets\n",
        "df.shape"
      ],
      "execution_count": 18,
      "outputs": [
        {
          "output_type": "execute_result",
          "data": {
            "text/plain": [
              "(1182, 3)"
            ]
          },
          "metadata": {},
          "execution_count": 18
        }
      ]
    },
    {
      "cell_type": "code",
      "metadata": {
        "colab": {
          "base_uri": "https://localhost:8080/"
        },
        "id": "YJxWTly9Jgb8",
        "outputId": "737b5158-af62-48b8-adb9-a4e24b4084cc"
      },
      "source": [
        "#getting the Neutral Sentiments\n",
        "len(df[df.Sentiment ==0])"
      ],
      "execution_count": 19,
      "outputs": [
        {
          "output_type": "execute_result",
          "data": {
            "text/plain": [
              "644"
            ]
          },
          "metadata": {},
          "execution_count": 19
        }
      ]
    },
    {
      "cell_type": "code",
      "metadata": {
        "id": "ugIQ6TxxJge1"
      },
      "source": [
        "#creating wordcloud \n",
        "from wordcloud import WordCloud  \n",
        "WordCloud\n",
        "from  nltk.corpus import stopwords #for stopwords "
      ],
      "execution_count": 20,
      "outputs": []
    },
    {
      "cell_type": "code",
      "metadata": {
        "colab": {
          "base_uri": "https://localhost:8080/",
          "height": 347
        },
        "id": "zq12TYdrJghz",
        "outputId": "7c983c23-e4ba-452b-8fa5-26105c532ce5"
      },
      "source": [
        "cloud  = WordCloud(max_words= 50, stopwords=stopwords.words(\"english\") ).generate(str(df['CleanData']) )\n",
        "plt.figure(figsize= (10 , 10)) \n",
        "plt.imshow(cloud)"
      ],
      "execution_count": 21,
      "outputs": [
        {
          "output_type": "execute_result",
          "data": {
            "text/plain": [
              "<matplotlib.image.AxesImage at 0x7f24e6e2d750>"
            ]
          },
          "metadata": {},
          "execution_count": 21
        },
        {
          "output_type": "display_data",
          "data": {
            "image/png": "[encoded data removed]",
            "text/plain": [
              "<Figure size 720x720 with 1 Axes>"
            ]
          },
          "metadata": {
            "needs_background": "light"
          }
        }
      ]
    },
    {
      "cell_type": "code",
      "metadata": {
        "colab": {
          "base_uri": "https://localhost:8080/"
        },
        "id": "MAPsojsEJgkq",
        "outputId": "659c3602-144c-405d-8bea-335e3fb88632"
      },
      "source": [
        "positive_tweet=  df[df.Sentiment >0]\n",
        "positive_tweet.shape"
      ],
      "execution_count": 22,
      "outputs": [
        {
          "output_type": "execute_result",
          "data": {
            "text/plain": [
              "(239, 3)"
            ]
          },
          "metadata": {},
          "execution_count": 22
        }
      ]
    },
    {
      "cell_type": "code",
      "metadata": {
        "colab": {
          "base_uri": "https://localhost:8080/",
          "height": 347
        },
        "id": "wViat_WyJgnl",
        "outputId": "88919738-5d02-43ca-85ef-f37f7f6b9913"
      },
      "source": [
        "cloud  = WordCloud(max_words= 80, stopwords=stopwords.words(\"english\") ).generate(str(positive_tweet['CleanData']) )\n",
        "plt.figure(figsize= (10 , 10)) \n",
        "plt.imshow(cloud)"
      ],
      "execution_count": 23,
      "outputs": [
        {
          "output_type": "execute_result",
          "data": {
            "text/plain": [
              "<matplotlib.image.AxesImage at 0x7f24e6e84110>"
            ]
          },
          "metadata": {},
          "execution_count": 23
        },
        {
          "output_type": "display_data",
          "data": {
            "image/png": "[encoded data removed]",
            "text/plain": [
              "<Figure size 720x720 with 1 Axes>"
            ]
          },
          "metadata": {
            "needs_background": "light"
          }
        }
      ]
    },
    {
      "cell_type": "code",
      "metadata": {
        "colab": {
          "base_uri": "https://localhost:8080/"
        },
        "id": "yfJcr59sJgq6",
        "outputId": "8dd8adaa-36df-42f4-a924-7d87c9d1d83e"
      },
      "source": [
        "negative_tweet=  df[df.Sentiment <0]\n",
        "negative_tweet.shape"
      ],
      "execution_count": 24,
      "outputs": [
        {
          "output_type": "execute_result",
          "data": {
            "text/plain": [
              "(299, 3)"
            ]
          },
          "metadata": {},
          "execution_count": 24
        }
      ]
    },
    {
      "cell_type": "code",
      "metadata": {
        "colab": {
          "base_uri": "https://localhost:8080/",
          "height": 347
        },
        "id": "lK4Qzg8CJguw",
        "outputId": "0ef715b6-cfcd-4541-8cfa-28b0228464a6"
      },
      "source": [
        "cloud  = WordCloud(max_words= 50, stopwords=stopwords.words(\"english\") ).generate(str(negative_tweet['CleanData']) )\n",
        "plt.figure(figsize= (10 , 10)) \n",
        "plt.imshow(cloud)"
      ],
      "execution_count": 25,
      "outputs": [
        {
          "output_type": "execute_result",
          "data": {
            "text/plain": [
              "<matplotlib.image.AxesImage at 0x7f24e6ed52d0>"
            ]
          },
          "metadata": {},
          "execution_count": 25
        },
        {
          "output_type": "display_data",
          "data": {
            "image/png": "[encoded data removed]",
            "text/plain": [
              "<Figure size 720x720 with 1 Axes>"
            ]
          },
          "metadata": {
            "needs_background": "light"
          }
        }
      ]
    },
    {
      "cell_type": "code",
      "metadata": {
        "colab": {
          "base_uri": "https://localhost:8080/"
        },
        "id": "_9BQS5HyJgyD",
        "outputId": "63b3ebc8-4446-45d5-9356-2c9271263d32"
      },
      "source": [
        "neutral_tweet=  df[df.Sentiment ==0]\n",
        "neutral_tweet.shape"
      ],
      "execution_count": 26,
      "outputs": [
        {
          "output_type": "execute_result",
          "data": {
            "text/plain": [
              "(644, 3)"
            ]
          },
          "metadata": {},
          "execution_count": 26
        }
      ]
    },
    {
      "cell_type": "code",
      "metadata": {
        "colab": {
          "base_uri": "https://localhost:8080/",
          "height": 347
        },
        "id": "XsAa_-FdJg1o",
        "outputId": "c1186035-e64d-4f88-b857-c65fa9fc4ec8"
      },
      "source": [
        "cloud  = WordCloud(max_words= 50, stopwords=stopwords.words(\"english\") ).generate(str(neutral_tweet['CleanData']) )\n",
        "plt.figure(figsize= (10 , 10)) \n",
        "plt.imshow(cloud)"
      ],
      "execution_count": 27,
      "outputs": [
        {
          "output_type": "execute_result",
          "data": {
            "text/plain": [
              "<matplotlib.image.AxesImage at 0x7f24e6eae090>"
            ]
          },
          "metadata": {},
          "execution_count": 27
        },
        {
          "output_type": "display_data",
          "data": {
            "image/png": "[encoded data removed]",
            "text/plain": [
              "<Figure size 720x720 with 1 Axes>"
            ]
          },
          "metadata": {
            "needs_background": "light"
          }
        }
      ]
    },
    {
      "cell_type": "code",
      "metadata": {
        "id": "ByFyKowzJg4M"
      },
      "source": [
        ""
      ],
      "execution_count": 27,
      "outputs": []
    },
    {
      "cell_type": "markdown",
      "metadata": {
        "id": "2hmaOhUQ25QF"
      },
      "source": [
        "Sentiment analysis by stanza\n"
      ]
    },
    {
      "cell_type": "code",
      "metadata": {
        "colab": {
          "base_uri": "https://localhost:8080/",
          "height": 406,
          "referenced_widgets": [
            "49e9655df9784d5ab141dd131b1aa2ce",
            "64036d2da7824078b838e2f76dc26a91",
            "889347d7ff7a490eaa5ed9403ee5a369",
            "53af2f9e118f435aa7b850d91270c6ad",
            "3c272047963b4bf3af56eb03e1dc419e",
            "e283c4bf151042db8f452d2a1c8cd434",
            "af854e1bbdd040bf8c080d97717a63b5",
            "5f60f249fd8f498fbb0677e548287ba0",
            "c134b8fb8c6f4a718680fada73e7e914",
            "3f89b3e501be4bbea0aff6e9d2a09bfe",
            "188d6c5005c04551811179242cd60d13"
          ]
        },
        "id": "qIc_AQkdJg6W",
        "outputId": "edd4df6d-e963-42b8-e9ee-943adb8b2b61"
      },
      "source": [
        "!pip install stanza\n",
        "!pip install pycorenlp\n",
        "# Stanza\n",
        "import stanza\n",
        "stanza.download('en')\n",
        "\n"
      ],
      "execution_count": 28,
      "outputs": [
        {
          "output_type": "stream",
          "name": "stdout",
          "text": [
            "Requirement already satisfied: stanza in /usr/local/lib/python3.7/dist-packages (1.2.3)\n",
            "Requirement already satisfied: torch>=1.3.0 in /usr/local/lib/python3.7/dist-packages (from stanza) (1.9.0+cu102)\n",
            "Requirement already satisfied: requests in /usr/local/lib/python3.7/dist-packages (from stanza) (2.23.0)\n",
            "Requirement already satisfied: numpy in /usr/local/lib/python3.7/dist-packages (from stanza) (1.19.5)\n",
            "Requirement already satisfied: tqdm in /usr/local/lib/python3.7/dist-packages (from stanza) (4.62.0)\n",
            "Requirement already satisfied: protobuf in /usr/local/lib/python3.7/dist-packages (from stanza) (3.17.3)\n",
            "Requirement already satisfied: typing-extensions in /usr/local/lib/python3.7/dist-packages (from torch>=1.3.0->stanza) (3.7.4.3)\n",
            "Requirement already satisfied: six>=1.9 in /usr/local/lib/python3.7/dist-packages (from protobuf->stanza) (1.15.0)\n",
            "Requirement already satisfied: certifi>=2017.4.17 in /usr/local/lib/python3.7/dist-packages (from requests->stanza) (2021.5.30)\n",
            "Requirement already satisfied: idna<3,>=2.5 in /usr/local/lib/python3.7/dist-packages (from requests->stanza) (2.10)\n",
            "Requirement already satisfied: urllib3!=1.25.0,!=1.25.1,<1.26,>=1.21.1 in /usr/local/lib/python3.7/dist-packages (from requests->stanza) (1.24.3)\n",
            "Requirement already satisfied: chardet<4,>=3.0.2 in /usr/local/lib/python3.7/dist-packages (from requests->stanza) (3.0.4)\n",
            "Requirement already satisfied: pycorenlp in /usr/local/lib/python3.7/dist-packages (0.3.0)\n",
            "Requirement already satisfied: requests in /usr/local/lib/python3.7/dist-packages (from pycorenlp) (2.23.0)\n",
            "Requirement already satisfied: urllib3!=1.25.0,!=1.25.1,<1.26,>=1.21.1 in /usr/local/lib/python3.7/dist-packages (from requests->pycorenlp) (1.24.3)\n",
            "Requirement already satisfied: chardet<4,>=3.0.2 in /usr/local/lib/python3.7/dist-packages (from requests->pycorenlp) (3.0.4)\n",
            "Requirement already satisfied: certifi>=2017.4.17 in /usr/local/lib/python3.7/dist-packages (from requests->pycorenlp) (2021.5.30)\n",
            "Requirement already satisfied: idna<3,>=2.5 in /usr/local/lib/python3.7/dist-packages (from requests->pycorenlp) (2.10)\n"
          ]
        },
        {
          "output_type": "display_data",
          "data": {
            "application/vnd.jupyter.widget-view+json": {
              "model_id": "49e9655df9784d5ab141dd131b1aa2ce",
              "version_minor": 0,
              "version_major": 2
            },
            "text/plain": [
              "Downloading https://raw.githubusercontent.com/stanfordnlp/stanza-resources/main/resources_1.2.2.json:   0%|   …"
            ]
          },
          "metadata": {}
        },
        {
          "output_type": "stream",
          "name": "stderr",
          "text": [
            "2021-08-31 13:20:11 INFO: Downloading default packages for language: en (English)...\n",
            "2021-08-31 13:20:12 INFO: File exists: /root/stanza_resources/en/default.zip.\n",
            "2021-08-31 13:20:18 INFO: Finished downloading models and saved to /root/stanza_resources.\n"
          ]
        }
      ]
    },
    {
      "cell_type": "code",
      "metadata": {
        "colab": {
          "base_uri": "https://localhost:8080/"
        },
        "id": "-8U34s-4BkVv",
        "outputId": "97e83e4d-3a95-4d8b-9754-18045a2603b2"
      },
      "source": [
        "import stanza\n",
        "\n",
        "nlp = stanza.Pipeline(lang='en', processors='tokenize,sentiment')"
      ],
      "execution_count": 29,
      "outputs": [
        {
          "output_type": "stream",
          "name": "stderr",
          "text": [
            "2021-08-31 13:20:18 INFO: Loading these models for language: en (English):\n",
            "========================\n",
            "| Processor | Package  |\n",
            "------------------------\n",
            "| tokenize  | combined |\n",
            "| sentiment | sstplus  |\n",
            "========================\n",
            "\n",
            "2021-08-31 13:20:18 INFO: Use device: cpu\n",
            "2021-08-31 13:20:18 INFO: Loading: tokenize\n",
            "2021-08-31 13:20:18 INFO: Loading: sentiment\n",
            "2021-08-31 13:20:18 INFO: Done loading processors!\n"
          ]
        }
      ]
    },
    {
      "cell_type": "code",
      "metadata": {
        "id": "4zCt0nWPJg86"
      },
      "source": [
        "# Stanford CoreNLP\n",
        "from pycorenlp import StanfordCoreNLP"
      ],
      "execution_count": 30,
      "outputs": []
    },
    {
      "cell_type": "code",
      "metadata": {
        "colab": {
          "base_uri": "https://localhost:8080/",
          "height": 471
        },
        "id": "YKZpoQvYJg_O",
        "outputId": "85832b59-8ec5-44e6-a10a-e87732b7dfc1"
      },
      "source": [
        "import pandas as pd\n",
        "tweet=pd.read_csv('Responses.csv')\n",
        "tweet.head(2)"
      ],
      "execution_count": 31,
      "outputs": [
        {
          "output_type": "execute_result",
          "data": {
            "text/html": [
              "<div>\n",
              "<style scoped>\n",
              "    .dataframe tbody tr th:only-of-type {\n",
              "        vertical-align: middle;\n",
              "    }\n",
              "\n",
              "    .dataframe tbody tr th {\n",
              "        vertical-align: top;\n",
              "    }\n",
              "\n",
              "    .dataframe thead th {\n",
              "        text-align: right;\n",
              "    }\n",
              "</style>\n",
              "<table border=\"1\" class=\"dataframe\">\n",
              "  <thead>\n",
              "    <tr style=\"text-align: right;\">\n",
              "      <th></th>\n",
              "      <th>Resp ID</th>\n",
              "      <th>Region of residence</th>\n",
              "      <th>Age</th>\n",
              "      <th>You are?(Education)</th>\n",
              "      <th>Time spent on Online Class</th>\n",
              "      <th>Rating of Online Class experience</th>\n",
              "      <th>Medium for online class</th>\n",
              "      <th>Time spent on self study</th>\n",
              "      <th>Time spent on fitness</th>\n",
              "      <th>Time spent on sleep</th>\n",
              "      <th>Time spent on social media</th>\n",
              "      <th>Prefered social media platform</th>\n",
              "      <th>Time spent on TV</th>\n",
              "      <th>Number of meals per day</th>\n",
              "      <th>Change in your weight</th>\n",
              "      <th>Health issue during lockdown</th>\n",
              "      <th>Stress busters</th>\n",
              "      <th>Time utilized</th>\n",
              "      <th>Do you find yourself more connected with your family, close friends , relatives  ?</th>\n",
              "      <th>What you miss the most</th>\n",
              "      <th>Responses</th>\n",
              "    </tr>\n",
              "  </thead>\n",
              "  <tbody>\n",
              "    <tr>\n",
              "      <th>0</th>\n",
              "      <td>1</td>\n",
              "      <td>Kanpur</td>\n",
              "      <td>14</td>\n",
              "      <td>High-School</td>\n",
              "      <td>3.0</td>\n",
              "      <td>Good</td>\n",
              "      <td>Smartphone or Laptop/Desktop</td>\n",
              "      <td>2.0</td>\n",
              "      <td>0.0</td>\n",
              "      <td>6.0</td>\n",
              "      <td>1.0</td>\n",
              "      <td>Whatsapp</td>\n",
              "      <td>1</td>\n",
              "      <td>1</td>\n",
              "      <td>Increased</td>\n",
              "      <td>NO</td>\n",
              "      <td>Listening to music</td>\n",
              "      <td>YES</td>\n",
              "      <td>YES</td>\n",
              "      <td>School/college</td>\n",
              "      <td>Who will responsible for students carrier beca...</td>\n",
              "    </tr>\n",
              "    <tr>\n",
              "      <th>1</th>\n",
              "      <td>2</td>\n",
              "      <td>Kolkata</td>\n",
              "      <td>23</td>\n",
              "      <td>Bachelor Degree</td>\n",
              "      <td>5.0</td>\n",
              "      <td>Average</td>\n",
              "      <td>Smartphone</td>\n",
              "      <td>5.0</td>\n",
              "      <td>1.0</td>\n",
              "      <td>8.0</td>\n",
              "      <td>1.0</td>\n",
              "      <td>Whatsapp</td>\n",
              "      <td>2</td>\n",
              "      <td>3</td>\n",
              "      <td>Remain Constant</td>\n",
              "      <td>NO</td>\n",
              "      <td>gardening cartoon</td>\n",
              "      <td>YES</td>\n",
              "      <td>YES</td>\n",
              "      <td>Roaming around freely</td>\n",
              "      <td>Taking ongoing online classes is quite tedious...</td>\n",
              "    </tr>\n",
              "  </tbody>\n",
              "</table>\n",
              "</div>"
            ],
            "text/plain": [
              "   Resp ID  ...                                          Responses\n",
              "0        1  ...  Who will responsible for students carrier beca...\n",
              "1        2  ...  Taking ongoing online classes is quite tedious...\n",
              "\n",
              "[2 rows x 21 columns]"
            ]
          },
          "metadata": {},
          "execution_count": 31
        }
      ]
    },
    {
      "cell_type": "code",
      "metadata": {
        "colab": {
          "base_uri": "https://localhost:8080/"
        },
        "id": "YU661j2757le",
        "outputId": "bd36dbdc-ee4d-4f7b-bb04-133dfbb9fa9c"
      },
      "source": [
        "tweet['Responses']"
      ],
      "execution_count": 32,
      "outputs": [
        {
          "output_type": "execute_result",
          "data": {
            "text/plain": [
              "0       Who will responsible for students carrier beca...\n",
              "1       Taking ongoing online classes is quite tedious...\n",
              "2                  Financial problem no network coverage \n",
              "3       In this pandemic no hope from anyone nobody ca...\n",
              "4       however my college is not helping/ demanding f...\n",
              "                              ...                        \n",
              "1177    Not possible to solve my problem even my frien...\n",
              "1178                                 has suffered a lot. \n",
              "1179    Everyone is securing themselves that's it Neit...\n",
              "1180    no hope/unable to concetrate on study/ no mone...\n",
              "1181                 Don't have sufficient study material\n",
              "Name: Responses, Length: 1182, dtype: object"
            ]
          },
          "metadata": {},
          "execution_count": 32
        }
      ]
    },
    {
      "cell_type": "code",
      "metadata": {
        "colab": {
          "base_uri": "https://localhost:8080/"
        },
        "id": "xhfw8U6DJhCC",
        "outputId": "2506dd6f-308e-44f8-ff0c-16692ac2405c"
      },
      "source": [
        "# Obtain (average) sentiment score generated by Stanza for each Tweet\n",
        "import numpy as np\n",
        "def stanza_analyze(Text):\n",
        "    document = nlp(Text)\n",
        "    print('Processing')\n",
        "    return np.mean([(i.sentiment - 1) for i in document.sentences]) \n",
        "# Minus 1 so as to bring score range of [0,2] to [-1,1]\n",
        "  \n",
        "# Obtain sentiment categorical score generated by Stanza\n",
        "tweet['stanza_score'] = tweet['Responses'].apply(lambda x: stanza_analyze(x))\n",
        "neutral_thresh = 0.05\n",
        "# Convert average Stanza sentiment score into sentiment categories\n",
        "tweet['stanza_sentiment'] = tweet['stanza_score'].apply(lambda c: 'Positive' if c >= neutral_thresh else ('Negative' if c <= -(neutral_thresh) else 'Neutral'))"
      ],
      "execution_count": 33,
      "outputs": [
        {
          "output_type": "stream",
          "name": "stdout",
          "text": [
            "Processing\n",
            "Processing\n",
            "Processing\n",
            "Processing\n",
            "Processing\n",
            "Processing\n",
            "Processing\n",
            "Processing\n",
            "Processing\n",
            "Processing\n",
            "Processing\n",
            "Processing\n",
            "Processing\n",
            "Processing\n",
            "Processing\n",
            "Processing\n",
            "Processing\n",
            "Processing\n",
            "Processing\n",
            "Processing\n",
            "Processing\n",
            "Processing\n",
            "Processing\n",
            "Processing\n",
            "Processing\n",
            "Processing\n",
            "Processing\n",
            "Processing\n",
            "Processing\n",
            "Processing\n",
            "Processing\n",
            "Processing\n",
            "Processing\n",
            "Processing\n",
            "Processing\n",
            "Processing\n",
            "Processing\n",
            "Processing\n",
            "Processing\n",
            "Processing\n",
            "Processing\n",
            "Processing\n",
            "Processing\n",
            "Processing\n",
            "Processing\n",
            "Processing\n",
            "Processing\n",
            "Processing\n",
            "Processing\n",
            "Processing\n",
            "Processing\n",
            "Processing\n",
            "Processing\n",
            "Processing\n",
            "Processing\n",
            "Processing\n",
            "Processing\n",
            "Processing\n",
            "Processing\n",
            "Processing\n",
            "Processing\n",
            "Processing\n",
            "Processing\n",
            "Processing\n",
            "Processing\n",
            "Processing\n",
            "Processing\n",
            "Processing\n",
            "Processing\n",
            "Processing\n",
            "Processing\n",
            "Processing\n",
            "Processing\n",
            "Processing\n",
            "Processing\n",
            "Processing\n",
            "Processing\n",
            "Processing\n",
            "Processing\n",
            "Processing\n",
            "Processing\n",
            "Processing\n",
            "Processing\n",
            "Processing\n",
            "Processing\n",
            "Processing\n",
            "Processing\n",
            "Processing\n",
            "Processing\n",
            "Processing\n",
            "Processing\n",
            "Processing\n",
            "Processing\n",
            "Processing\n",
            "Processing\n",
            "Processing\n",
            "Processing\n",
            "Processing\n",
            "Processing\n",
            "Processing\n",
            "Processing\n",
            "Processing\n",
            "Processing\n",
            "Processing\n",
            "Processing\n",
            "Processing\n",
            "Processing\n",
            "Processing\n",
            "Processing\n",
            "Processing\n",
            "Processing\n",
            "Processing\n",
            "Processing\n",
            "Processing\n",
            "Processing\n",
            "Processing\n",
            "Processing\n",
            "Processing\n",
            "Processing\n",
            "Processing\n",
            "Processing\n",
            "Processing\n",
            "Processing\n",
            "Processing\n",
            "Processing\n",
            "Processing\n",
            "Processing\n",
            "Processing\n",
            "Processing\n",
            "Processing\n",
            "Processing\n",
            "Processing\n",
            "Processing\n",
            "Processing\n",
            "Processing\n",
            "Processing\n",
            "Processing\n",
            "Processing\n",
            "Processing\n",
            "Processing\n",
            "Processing\n",
            "Processing\n",
            "Processing\n",
            "Processing\n",
            "Processing\n",
            "Processing\n",
            "Processing\n",
            "Processing\n",
            "Processing\n",
            "Processing\n",
            "Processing\n",
            "Processing\n",
            "Processing\n",
            "Processing\n",
            "Processing\n",
            "Processing\n",
            "Processing\n",
            "Processing\n",
            "Processing\n",
            "Processing\n",
            "Processing\n",
            "Processing\n",
            "Processing\n",
            "Processing\n",
            "Processing\n",
            "Processing\n",
            "Processing\n",
            "Processing\n",
            "Processing\n",
            "Processing\n",
            "Processing\n",
            "Processing\n",
            "Processing\n",
            "Processing\n",
            "Processing\n",
            "Processing\n",
            "Processing\n",
            "Processing\n",
            "Processing\n",
            "Processing\n",
            "Processing\n",
            "Processing\n",
            "Processing\n",
            "Processing\n",
            "Processing\n",
            "Processing\n",
            "Processing\n",
            "Processing\n",
            "Processing\n",
            "Processing\n",
            "Processing\n",
            "Processing\n",
            "Processing\n",
            "Processing\n",
            "Processing\n",
            "Processing\n",
            "Processing\n",
            "Processing\n",
            "Processing\n",
            "Processing\n",
            "Processing\n",
            "Processing\n",
            "Processing\n",
            "Processing\n",
            "Processing\n",
            "Processing\n",
            "Processing\n",
            "Processing\n",
            "Processing\n",
            "Processing\n",
            "Processing\n",
            "Processing\n",
            "Processing\n",
            "Processing\n",
            "Processing\n",
            "Processing\n",
            "Processing\n",
            "Processing\n",
            "Processing\n",
            "Processing\n",
            "Processing\n",
            "Processing\n",
            "Processing\n",
            "Processing\n",
            "Processing\n",
            "Processing\n",
            "Processing\n",
            "Processing\n",
            "Processing\n",
            "Processing\n",
            "Processing\n",
            "Processing\n",
            "Processing\n",
            "Processing\n",
            "Processing\n",
            "Processing\n",
            "Processing\n",
            "Processing\n",
            "Processing\n",
            "Processing\n",
            "Processing\n",
            "Processing\n",
            "Processing\n",
            "Processing\n",
            "Processing\n",
            "Processing\n",
            "Processing\n",
            "Processing\n",
            "Processing\n",
            "Processing\n",
            "Processing\n",
            "Processing\n",
            "Processing\n",
            "Processing\n",
            "Processing\n",
            "Processing\n",
            "Processing\n",
            "Processing\n",
            "Processing\n",
            "Processing\n",
            "Processing\n",
            "Processing\n",
            "Processing\n",
            "Processing\n",
            "Processing\n",
            "Processing\n",
            "Processing\n",
            "Processing\n",
            "Processing\n",
            "Processing\n",
            "Processing\n",
            "Processing\n",
            "Processing\n",
            "Processing\n",
            "Processing\n",
            "Processing\n",
            "Processing\n",
            "Processing\n",
            "Processing\n",
            "Processing\n",
            "Processing\n",
            "Processing\n",
            "Processing\n",
            "Processing\n",
            "Processing\n",
            "Processing\n",
            "Processing\n",
            "Processing\n",
            "Processing\n",
            "Processing\n",
            "Processing\n",
            "Processing\n",
            "Processing\n",
            "Processing\n",
            "Processing\n",
            "Processing\n",
            "Processing\n",
            "Processing\n",
            "Processing\n",
            "Processing\n",
            "Processing\n",
            "Processing\n",
            "Processing\n",
            "Processing\n",
            "Processing\n",
            "Processing\n",
            "Processing\n",
            "Processing\n",
            "Processing\n",
            "Processing\n",
            "Processing\n",
            "Processing\n",
            "Processing\n",
            "Processing\n",
            "Processing\n",
            "Processing\n",
            "Processing\n",
            "Processing\n",
            "Processing\n",
            "Processing\n",
            "Processing\n",
            "Processing\n",
            "Processing\n",
            "Processing\n",
            "Processing\n",
            "Processing\n",
            "Processing\n",
            "Processing\n",
            "Processing\n",
            "Processing\n",
            "Processing\n",
            "Processing\n",
            "Processing\n",
            "Processing\n",
            "Processing\n",
            "Processing\n",
            "Processing\n",
            "Processing\n",
            "Processing\n",
            "Processing\n",
            "Processing\n",
            "Processing\n",
            "Processing\n",
            "Processing\n",
            "Processing\n",
            "Processing\n",
            "Processing\n",
            "Processing\n",
            "Processing\n",
            "Processing\n",
            "Processing\n",
            "Processing\n",
            "Processing\n",
            "Processing\n",
            "Processing\n",
            "Processing\n",
            "Processing\n",
            "Processing\n",
            "Processing\n",
            "Processing\n",
            "Processing\n",
            "Processing\n",
            "Processing\n",
            "Processing\n",
            "Processing\n",
            "Processing\n",
            "Processing\n",
            "Processing\n",
            "Processing\n",
            "Processing\n",
            "Processing\n",
            "Processing\n",
            "Processing\n",
            "Processing\n",
            "Processing\n",
            "Processing\n",
            "Processing\n",
            "Processing\n",
            "Processing\n",
            "Processing\n",
            "Processing\n",
            "Processing\n",
            "Processing\n",
            "Processing\n",
            "Processing\n",
            "Processing\n",
            "Processing\n",
            "Processing\n",
            "Processing\n",
            "Processing\n",
            "Processing\n",
            "Processing\n",
            "Processing\n",
            "Processing\n",
            "Processing\n",
            "Processing\n",
            "Processing\n",
            "Processing\n",
            "Processing\n",
            "Processing\n",
            "Processing\n",
            "Processing\n",
            "Processing\n",
            "Processing\n",
            "Processing\n",
            "Processing\n",
            "Processing\n",
            "Processing\n",
            "Processing\n",
            "Processing\n",
            "Processing\n",
            "Processing\n",
            "Processing\n",
            "Processing\n",
            "Processing\n",
            "Processing\n",
            "Processing\n",
            "Processing\n",
            "Processing\n",
            "Processing\n",
            "Processing\n",
            "Processing\n",
            "Processing\n",
            "Processing\n",
            "Processing\n",
            "Processing\n",
            "Processing\n",
            "Processing\n",
            "Processing\n",
            "Processing\n",
            "Processing\n",
            "Processing\n",
            "Processing\n",
            "Processing\n",
            "Processing\n",
            "Processing\n",
            "Processing\n",
            "Processing\n",
            "Processing\n",
            "Processing\n",
            "Processing\n",
            "Processing\n",
            "Processing\n",
            "Processing\n",
            "Processing\n",
            "Processing\n",
            "Processing\n",
            "Processing\n",
            "Processing\n",
            "Processing\n",
            "Processing\n",
            "Processing\n",
            "Processing\n",
            "Processing\n",
            "Processing\n",
            "Processing\n",
            "Processing\n",
            "Processing\n",
            "Processing\n",
            "Processing\n",
            "Processing\n",
            "Processing\n",
            "Processing\n",
            "Processing\n",
            "Processing\n",
            "Processing\n",
            "Processing\n",
            "Processing\n",
            "Processing\n",
            "Processing\n",
            "Processing\n",
            "Processing\n",
            "Processing\n",
            "Processing\n",
            "Processing\n",
            "Processing\n",
            "Processing\n",
            "Processing\n",
            "Processing\n",
            "Processing\n",
            "Processing\n",
            "Processing\n",
            "Processing\n",
            "Processing\n",
            "Processing\n",
            "Processing\n",
            "Processing\n",
            "Processing\n",
            "Processing\n",
            "Processing\n",
            "Processing\n",
            "Processing\n",
            "Processing\n",
            "Processing\n",
            "Processing\n",
            "Processing\n",
            "Processing\n",
            "Processing\n",
            "Processing\n",
            "Processing\n",
            "Processing\n",
            "Processing\n",
            "Processing\n",
            "Processing\n",
            "Processing\n",
            "Processing\n",
            "Processing\n",
            "Processing\n",
            "Processing\n",
            "Processing\n",
            "Processing\n",
            "Processing\n",
            "Processing\n",
            "Processing\n",
            "Processing\n",
            "Processing\n",
            "Processing\n",
            "Processing\n",
            "Processing\n",
            "Processing\n",
            "Processing\n",
            "Processing\n",
            "Processing\n",
            "Processing\n",
            "Processing\n",
            "Processing\n",
            "Processing\n",
            "Processing\n",
            "Processing\n",
            "Processing\n",
            "Processing\n",
            "Processing\n",
            "Processing\n",
            "Processing\n",
            "Processing\n",
            "Processing\n",
            "Processing\n",
            "Processing\n",
            "Processing\n",
            "Processing\n",
            "Processing\n",
            "Processing\n",
            "Processing\n",
            "Processing\n",
            "Processing\n",
            "Processing\n",
            "Processing\n",
            "Processing\n",
            "Processing\n",
            "Processing\n",
            "Processing\n",
            "Processing\n",
            "Processing\n",
            "Processing\n",
            "Processing\n",
            "Processing\n",
            "Processing\n",
            "Processing\n",
            "Processing\n",
            "Processing\n",
            "Processing\n",
            "Processing\n",
            "Processing\n",
            "Processing\n",
            "Processing\n",
            "Processing\n",
            "Processing\n",
            "Processing\n",
            "Processing\n",
            "Processing\n",
            "Processing\n",
            "Processing\n",
            "Processing\n",
            "Processing\n",
            "Processing\n",
            "Processing\n",
            "Processing\n",
            "Processing\n",
            "Processing\n",
            "Processing\n",
            "Processing\n",
            "Processing\n",
            "Processing\n",
            "Processing\n",
            "Processing\n",
            "Processing\n",
            "Processing\n",
            "Processing\n",
            "Processing\n",
            "Processing\n",
            "Processing\n",
            "Processing\n",
            "Processing\n",
            "Processing\n",
            "Processing\n",
            "Processing\n",
            "Processing\n",
            "Processing\n",
            "Processing\n",
            "Processing\n",
            "Processing\n",
            "Processing\n",
            "Processing\n",
            "Processing\n",
            "Processing\n",
            "Processing\n",
            "Processing\n",
            "Processing\n",
            "Processing\n",
            "Processing\n",
            "Processing\n",
            "Processing\n",
            "Processing\n",
            "Processing\n",
            "Processing\n",
            "Processing\n",
            "Processing\n",
            "Processing\n",
            "Processing\n",
            "Processing\n",
            "Processing\n",
            "Processing\n",
            "Processing\n",
            "Processing\n",
            "Processing\n",
            "Processing\n",
            "Processing\n",
            "Processing\n",
            "Processing\n",
            "Processing\n",
            "Processing\n",
            "Processing\n",
            "Processing\n",
            "Processing\n",
            "Processing\n",
            "Processing\n",
            "Processing\n",
            "Processing\n",
            "Processing\n",
            "Processing\n",
            "Processing\n",
            "Processing\n",
            "Processing\n",
            "Processing\n",
            "Processing\n",
            "Processing\n",
            "Processing\n",
            "Processing\n",
            "Processing\n",
            "Processing\n",
            "Processing\n",
            "Processing\n",
            "Processing\n",
            "Processing\n",
            "Processing\n",
            "Processing\n",
            "Processing\n",
            "Processing\n",
            "Processing\n",
            "Processing\n",
            "Processing\n",
            "Processing\n",
            "Processing\n",
            "Processing\n",
            "Processing\n",
            "Processing\n",
            "Processing\n",
            "Processing\n",
            "Processing\n",
            "Processing\n",
            "Processing\n",
            "Processing\n",
            "Processing\n",
            "Processing\n",
            "Processing\n",
            "Processing\n",
            "Processing\n",
            "Processing\n",
            "Processing\n",
            "Processing\n",
            "Processing\n",
            "Processing\n",
            "Processing\n",
            "Processing\n",
            "Processing\n",
            "Processing\n",
            "Processing\n",
            "Processing\n",
            "Processing\n",
            "Processing\n",
            "Processing\n",
            "Processing\n",
            "Processing\n",
            "Processing\n",
            "Processing\n",
            "Processing\n",
            "Processing\n",
            "Processing\n",
            "Processing\n",
            "Processing\n",
            "Processing\n",
            "Processing\n",
            "Processing\n",
            "Processing\n",
            "Processing\n",
            "Processing\n",
            "Processing\n",
            "Processing\n",
            "Processing\n",
            "Processing\n",
            "Processing\n",
            "Processing\n",
            "Processing\n",
            "Processing\n",
            "Processing\n",
            "Processing\n",
            "Processing\n",
            "Processing\n",
            "Processing\n",
            "Processing\n",
            "Processing\n",
            "Processing\n",
            "Processing\n",
            "Processing\n",
            "Processing\n",
            "Processing\n",
            "Processing\n",
            "Processing\n",
            "Processing\n",
            "Processing\n",
            "Processing\n",
            "Processing\n",
            "Processing\n",
            "Processing\n",
            "Processing\n",
            "Processing\n",
            "Processing\n",
            "Processing\n",
            "Processing\n",
            "Processing\n",
            "Processing\n",
            "Processing\n",
            "Processing\n",
            "Processing\n",
            "Processing\n",
            "Processing\n",
            "Processing\n",
            "Processing\n",
            "Processing\n",
            "Processing\n",
            "Processing\n",
            "Processing\n",
            "Processing\n",
            "Processing\n",
            "Processing\n",
            "Processing\n",
            "Processing\n",
            "Processing\n",
            "Processing\n",
            "Processing\n",
            "Processing\n",
            "Processing\n",
            "Processing\n",
            "Processing\n",
            "Processing\n",
            "Processing\n",
            "Processing\n",
            "Processing\n",
            "Processing\n",
            "Processing\n",
            "Processing\n",
            "Processing\n",
            "Processing\n",
            "Processing\n",
            "Processing\n",
            "Processing\n",
            "Processing\n",
            "Processing\n",
            "Processing\n",
            "Processing\n",
            "Processing\n",
            "Processing\n",
            "Processing\n",
            "Processing\n",
            "Processing\n",
            "Processing\n",
            "Processing\n",
            "Processing\n",
            "Processing\n",
            "Processing\n",
            "Processing\n",
            "Processing\n",
            "Processing\n",
            "Processing\n",
            "Processing\n",
            "Processing\n",
            "Processing\n",
            "Processing\n",
            "Processing\n",
            "Processing\n",
            "Processing\n",
            "Processing\n",
            "Processing\n",
            "Processing\n",
            "Processing\n",
            "Processing\n",
            "Processing\n",
            "Processing\n",
            "Processing\n",
            "Processing\n",
            "Processing\n",
            "Processing\n",
            "Processing\n",
            "Processing\n",
            "Processing\n",
            "Processing\n",
            "Processing\n",
            "Processing\n",
            "Processing\n",
            "Processing\n",
            "Processing\n",
            "Processing\n",
            "Processing\n",
            "Processing\n",
            "Processing\n",
            "Processing\n",
            "Processing\n",
            "Processing\n",
            "Processing\n",
            "Processing\n",
            "Processing\n",
            "Processing\n",
            "Processing\n",
            "Processing\n",
            "Processing\n",
            "Processing\n",
            "Processing\n",
            "Processing\n",
            "Processing\n",
            "Processing\n",
            "Processing\n",
            "Processing\n",
            "Processing\n",
            "Processing\n",
            "Processing\n",
            "Processing\n",
            "Processing\n",
            "Processing\n",
            "Processing\n",
            "Processing\n",
            "Processing\n",
            "Processing\n",
            "Processing\n",
            "Processing\n",
            "Processing\n",
            "Processing\n",
            "Processing\n",
            "Processing\n",
            "Processing\n",
            "Processing\n",
            "Processing\n",
            "Processing\n",
            "Processing\n",
            "Processing\n",
            "Processing\n",
            "Processing\n",
            "Processing\n",
            "Processing\n",
            "Processing\n",
            "Processing\n",
            "Processing\n",
            "Processing\n",
            "Processing\n",
            "Processing\n",
            "Processing\n",
            "Processing\n",
            "Processing\n",
            "Processing\n",
            "Processing\n",
            "Processing\n",
            "Processing\n",
            "Processing\n",
            "Processing\n",
            "Processing\n",
            "Processing\n",
            "Processing\n",
            "Processing\n",
            "Processing\n",
            "Processing\n",
            "Processing\n",
            "Processing\n",
            "Processing\n",
            "Processing\n",
            "Processing\n",
            "Processing\n",
            "Processing\n",
            "Processing\n",
            "Processing\n",
            "Processing\n",
            "Processing\n",
            "Processing\n",
            "Processing\n",
            "Processing\n",
            "Processing\n",
            "Processing\n",
            "Processing\n",
            "Processing\n",
            "Processing\n",
            "Processing\n",
            "Processing\n",
            "Processing\n",
            "Processing\n",
            "Processing\n",
            "Processing\n",
            "Processing\n",
            "Processing\n",
            "Processing\n",
            "Processing\n",
            "Processing\n",
            "Processing\n",
            "Processing\n",
            "Processing\n",
            "Processing\n",
            "Processing\n",
            "Processing\n",
            "Processing\n",
            "Processing\n",
            "Processing\n",
            "Processing\n",
            "Processing\n",
            "Processing\n",
            "Processing\n",
            "Processing\n",
            "Processing\n",
            "Processing\n",
            "Processing\n",
            "Processing\n",
            "Processing\n",
            "Processing\n",
            "Processing\n",
            "Processing\n",
            "Processing\n",
            "Processing\n",
            "Processing\n",
            "Processing\n",
            "Processing\n",
            "Processing\n",
            "Processing\n",
            "Processing\n",
            "Processing\n",
            "Processing\n",
            "Processing\n",
            "Processing\n",
            "Processing\n",
            "Processing\n",
            "Processing\n",
            "Processing\n",
            "Processing\n",
            "Processing\n",
            "Processing\n",
            "Processing\n",
            "Processing\n",
            "Processing\n",
            "Processing\n",
            "Processing\n",
            "Processing\n",
            "Processing\n",
            "Processing\n",
            "Processing\n",
            "Processing\n",
            "Processing\n",
            "Processing\n",
            "Processing\n",
            "Processing\n",
            "Processing\n",
            "Processing\n",
            "Processing\n",
            "Processing\n",
            "Processing\n",
            "Processing\n",
            "Processing\n",
            "Processing\n",
            "Processing\n",
            "Processing\n",
            "Processing\n",
            "Processing\n",
            "Processing\n",
            "Processing\n",
            "Processing\n",
            "Processing\n",
            "Processing\n",
            "Processing\n",
            "Processing\n",
            "Processing\n",
            "Processing\n",
            "Processing\n",
            "Processing\n",
            "Processing\n",
            "Processing\n",
            "Processing\n",
            "Processing\n",
            "Processing\n",
            "Processing\n",
            "Processing\n",
            "Processing\n",
            "Processing\n",
            "Processing\n",
            "Processing\n",
            "Processing\n",
            "Processing\n",
            "Processing\n",
            "Processing\n",
            "Processing\n",
            "Processing\n",
            "Processing\n",
            "Processing\n",
            "Processing\n",
            "Processing\n",
            "Processing\n",
            "Processing\n",
            "Processing\n",
            "Processing\n",
            "Processing\n",
            "Processing\n",
            "Processing\n",
            "Processing\n",
            "Processing\n",
            "Processing\n",
            "Processing\n",
            "Processing\n",
            "Processing\n",
            "Processing\n",
            "Processing\n",
            "Processing\n",
            "Processing\n",
            "Processing\n",
            "Processing\n",
            "Processing\n",
            "Processing\n",
            "Processing\n",
            "Processing\n",
            "Processing\n",
            "Processing\n",
            "Processing\n",
            "Processing\n",
            "Processing\n",
            "Processing\n",
            "Processing\n",
            "Processing\n",
            "Processing\n",
            "Processing\n",
            "Processing\n",
            "Processing\n",
            "Processing\n",
            "Processing\n",
            "Processing\n",
            "Processing\n",
            "Processing\n",
            "Processing\n",
            "Processing\n",
            "Processing\n",
            "Processing\n",
            "Processing\n",
            "Processing\n",
            "Processing\n",
            "Processing\n",
            "Processing\n",
            "Processing\n",
            "Processing\n",
            "Processing\n",
            "Processing\n",
            "Processing\n",
            "Processing\n",
            "Processing\n",
            "Processing\n",
            "Processing\n",
            "Processing\n",
            "Processing\n",
            "Processing\n",
            "Processing\n",
            "Processing\n",
            "Processing\n",
            "Processing\n",
            "Processing\n",
            "Processing\n",
            "Processing\n",
            "Processing\n",
            "Processing\n",
            "Processing\n",
            "Processing\n",
            "Processing\n",
            "Processing\n",
            "Processing\n",
            "Processing\n",
            "Processing\n",
            "Processing\n",
            "Processing\n",
            "Processing\n",
            "Processing\n",
            "Processing\n",
            "Processing\n",
            "Processing\n",
            "Processing\n",
            "Processing\n",
            "Processing\n",
            "Processing\n",
            "Processing\n",
            "Processing\n",
            "Processing\n",
            "Processing\n",
            "Processing\n",
            "Processing\n",
            "Processing\n",
            "Processing\n",
            "Processing\n",
            "Processing\n",
            "Processing\n",
            "Processing\n",
            "Processing\n",
            "Processing\n",
            "Processing\n",
            "Processing\n",
            "Processing\n",
            "Processing\n",
            "Processing\n",
            "Processing\n",
            "Processing\n",
            "Processing\n",
            "Processing\n",
            "Processing\n",
            "Processing\n",
            "Processing\n",
            "Processing\n",
            "Processing\n",
            "Processing\n",
            "Processing\n",
            "Processing\n",
            "Processing\n",
            "Processing\n",
            "Processing\n",
            "Processing\n",
            "Processing\n",
            "Processing\n",
            "Processing\n",
            "Processing\n",
            "Processing\n",
            "Processing\n",
            "Processing\n",
            "Processing\n",
            "Processing\n",
            "Processing\n",
            "Processing\n",
            "Processing\n",
            "Processing\n",
            "Processing\n",
            "Processing\n",
            "Processing\n",
            "Processing\n",
            "Processing\n",
            "Processing\n",
            "Processing\n",
            "Processing\n",
            "Processing\n",
            "Processing\n",
            "Processing\n",
            "Processing\n",
            "Processing\n",
            "Processing\n",
            "Processing\n",
            "Processing\n",
            "Processing\n",
            "Processing\n",
            "Processing\n",
            "Processing\n",
            "Processing\n",
            "Processing\n",
            "Processing\n",
            "Processing\n",
            "Processing\n",
            "Processing\n",
            "Processing\n",
            "Processing\n"
          ]
        }
      ]
    },
    {
      "cell_type": "code",
      "metadata": {
        "colab": {
          "base_uri": "https://localhost:8080/",
          "height": 1000
        },
        "id": "70J8tdthJhFv",
        "outputId": "297866b3-b609-49ae-e6c0-6ba0563122e6"
      },
      "source": [
        "tweet.head(10)"
      ],
      "execution_count": 34,
      "outputs": [
        {
          "output_type": "execute_result",
          "data": {
            "text/html": [
              "<div>\n",
              "<style scoped>\n",
              "    .dataframe tbody tr th:only-of-type {\n",
              "        vertical-align: middle;\n",
              "    }\n",
              "\n",
              "    .dataframe tbody tr th {\n",
              "        vertical-align: top;\n",
              "    }\n",
              "\n",
              "    .dataframe thead th {\n",
              "        text-align: right;\n",
              "    }\n",
              "</style>\n",
              "<table border=\"1\" class=\"dataframe\">\n",
              "  <thead>\n",
              "    <tr style=\"text-align: right;\">\n",
              "      <th></th>\n",
              "      <th>Resp ID</th>\n",
              "      <th>Region of residence</th>\n",
              "      <th>Age</th>\n",
              "      <th>You are?(Education)</th>\n",
              "      <th>Time spent on Online Class</th>\n",
              "      <th>Rating of Online Class experience</th>\n",
              "      <th>Medium for online class</th>\n",
              "      <th>Time spent on self study</th>\n",
              "      <th>Time spent on fitness</th>\n",
              "      <th>Time spent on sleep</th>\n",
              "      <th>Time spent on social media</th>\n",
              "      <th>Prefered social media platform</th>\n",
              "      <th>Time spent on TV</th>\n",
              "      <th>Number of meals per day</th>\n",
              "      <th>Change in your weight</th>\n",
              "      <th>Health issue during lockdown</th>\n",
              "      <th>Stress busters</th>\n",
              "      <th>Time utilized</th>\n",
              "      <th>Do you find yourself more connected with your family, close friends , relatives  ?</th>\n",
              "      <th>What you miss the most</th>\n",
              "      <th>Responses</th>\n",
              "      <th>stanza_score</th>\n",
              "      <th>stanza_sentiment</th>\n",
              "    </tr>\n",
              "  </thead>\n",
              "  <tbody>\n",
              "    <tr>\n",
              "      <th>0</th>\n",
              "      <td>1</td>\n",
              "      <td>Kanpur</td>\n",
              "      <td>14</td>\n",
              "      <td>High-School</td>\n",
              "      <td>3.0</td>\n",
              "      <td>Good</td>\n",
              "      <td>Smartphone or Laptop/Desktop</td>\n",
              "      <td>2.0</td>\n",
              "      <td>0.00</td>\n",
              "      <td>6.0</td>\n",
              "      <td>1.0</td>\n",
              "      <td>Whatsapp</td>\n",
              "      <td>1</td>\n",
              "      <td>1</td>\n",
              "      <td>Increased</td>\n",
              "      <td>NO</td>\n",
              "      <td>Listening to music</td>\n",
              "      <td>YES</td>\n",
              "      <td>YES</td>\n",
              "      <td>School/college</td>\n",
              "      <td>Who will responsible for students carrier beca...</td>\n",
              "      <td>-1.0</td>\n",
              "      <td>Negative</td>\n",
              "    </tr>\n",
              "    <tr>\n",
              "      <th>1</th>\n",
              "      <td>2</td>\n",
              "      <td>Kolkata</td>\n",
              "      <td>23</td>\n",
              "      <td>Bachelor Degree</td>\n",
              "      <td>5.0</td>\n",
              "      <td>Average</td>\n",
              "      <td>Smartphone</td>\n",
              "      <td>5.0</td>\n",
              "      <td>1.00</td>\n",
              "      <td>8.0</td>\n",
              "      <td>1.0</td>\n",
              "      <td>Whatsapp</td>\n",
              "      <td>2</td>\n",
              "      <td>3</td>\n",
              "      <td>Remain Constant</td>\n",
              "      <td>NO</td>\n",
              "      <td>gardening cartoon</td>\n",
              "      <td>YES</td>\n",
              "      <td>YES</td>\n",
              "      <td>Roaming around freely</td>\n",
              "      <td>Taking ongoing online classes is quite tedious...</td>\n",
              "      <td>0.0</td>\n",
              "      <td>Neutral</td>\n",
              "    </tr>\n",
              "    <tr>\n",
              "      <th>2</th>\n",
              "      <td>3</td>\n",
              "      <td>Hyderabad</td>\n",
              "      <td>13</td>\n",
              "      <td>Secondary</td>\n",
              "      <td>3.0</td>\n",
              "      <td>Excellent</td>\n",
              "      <td>Smartphone</td>\n",
              "      <td>2.0</td>\n",
              "      <td>0.00</td>\n",
              "      <td>8.0</td>\n",
              "      <td>1.0</td>\n",
              "      <td>Youtube</td>\n",
              "      <td>0</td>\n",
              "      <td>3</td>\n",
              "      <td>Remain Constant</td>\n",
              "      <td>NO</td>\n",
              "      <td>Listening to music</td>\n",
              "      <td>YES</td>\n",
              "      <td>YES</td>\n",
              "      <td>Friends , relatives</td>\n",
              "      <td>Financial problem no network coverage</td>\n",
              "      <td>-1.0</td>\n",
              "      <td>Negative</td>\n",
              "    </tr>\n",
              "    <tr>\n",
              "      <th>3</th>\n",
              "      <td>4</td>\n",
              "      <td>Roorkee</td>\n",
              "      <td>13</td>\n",
              "      <td>Secondary</td>\n",
              "      <td>4.0</td>\n",
              "      <td>Good</td>\n",
              "      <td>Smartphone</td>\n",
              "      <td>4.0</td>\n",
              "      <td>1.00</td>\n",
              "      <td>8.0</td>\n",
              "      <td>1.0</td>\n",
              "      <td>Whatsapp</td>\n",
              "      <td>2</td>\n",
              "      <td>3</td>\n",
              "      <td>Decreased</td>\n",
              "      <td>NO</td>\n",
              "      <td>Reading</td>\n",
              "      <td>YES</td>\n",
              "      <td>YES</td>\n",
              "      <td>School/college</td>\n",
              "      <td>In this pandemic no hope from anyone nobody ca...</td>\n",
              "      <td>-1.0</td>\n",
              "      <td>Negative</td>\n",
              "    </tr>\n",
              "    <tr>\n",
              "      <th>4</th>\n",
              "      <td>5</td>\n",
              "      <td>Kanpur</td>\n",
              "      <td>19</td>\n",
              "      <td>Intermediate</td>\n",
              "      <td>4.0</td>\n",
              "      <td>Very poor</td>\n",
              "      <td>Laptop/Desktop</td>\n",
              "      <td>3.0</td>\n",
              "      <td>1.00</td>\n",
              "      <td>8.0</td>\n",
              "      <td>3.0</td>\n",
              "      <td>Whatsapp</td>\n",
              "      <td>2</td>\n",
              "      <td>3</td>\n",
              "      <td>Increased</td>\n",
              "      <td>NO</td>\n",
              "      <td>Meditation</td>\n",
              "      <td>YES</td>\n",
              "      <td>YES</td>\n",
              "      <td>School/college</td>\n",
              "      <td>however my college is not helping/ demanding f...</td>\n",
              "      <td>-1.0</td>\n",
              "      <td>Negative</td>\n",
              "    </tr>\n",
              "    <tr>\n",
              "      <th>5</th>\n",
              "      <td>6</td>\n",
              "      <td>Delhi-NCR</td>\n",
              "      <td>20</td>\n",
              "      <td>Preparation</td>\n",
              "      <td>2.0</td>\n",
              "      <td>Average</td>\n",
              "      <td>Laptop/Desktop</td>\n",
              "      <td>2.0</td>\n",
              "      <td>1.00</td>\n",
              "      <td>9.0</td>\n",
              "      <td>1.0</td>\n",
              "      <td>Youtube</td>\n",
              "      <td>1</td>\n",
              "      <td>3</td>\n",
              "      <td>Remain Constant</td>\n",
              "      <td>NO</td>\n",
              "      <td>Listening to music</td>\n",
              "      <td>YES</td>\n",
              "      <td>NO</td>\n",
              "      <td>Roaming around freely</td>\n",
              "      <td>vaccine is avaiable now so why can not take ac...</td>\n",
              "      <td>-1.0</td>\n",
              "      <td>Negative</td>\n",
              "    </tr>\n",
              "    <tr>\n",
              "      <th>6</th>\n",
              "      <td>7</td>\n",
              "      <td>Hyderabad</td>\n",
              "      <td>18</td>\n",
              "      <td>Intermediate</td>\n",
              "      <td>2.0</td>\n",
              "      <td>Good</td>\n",
              "      <td>NaN</td>\n",
              "      <td>3.0</td>\n",
              "      <td>1.00</td>\n",
              "      <td>7.0</td>\n",
              "      <td>2.0</td>\n",
              "      <td>Whatsapp</td>\n",
              "      <td>1</td>\n",
              "      <td>3</td>\n",
              "      <td>Remain Constant</td>\n",
              "      <td>YES</td>\n",
              "      <td>Online gaming</td>\n",
              "      <td>YES</td>\n",
              "      <td>YES</td>\n",
              "      <td>Travelling</td>\n",
              "      <td>sometimes I feel this is the life that I am no...</td>\n",
              "      <td>-0.5</td>\n",
              "      <td>Negative</td>\n",
              "    </tr>\n",
              "    <tr>\n",
              "      <th>7</th>\n",
              "      <td>8</td>\n",
              "      <td>Mumbai</td>\n",
              "      <td>14</td>\n",
              "      <td>Secondary</td>\n",
              "      <td>2.0</td>\n",
              "      <td>Good</td>\n",
              "      <td>Smartphone</td>\n",
              "      <td>2.0</td>\n",
              "      <td>1.00</td>\n",
              "      <td>8.0</td>\n",
              "      <td>3.0</td>\n",
              "      <td>Whatsapp</td>\n",
              "      <td>1</td>\n",
              "      <td>3</td>\n",
              "      <td>Increased</td>\n",
              "      <td>NO</td>\n",
              "      <td>Sleeping</td>\n",
              "      <td>NO</td>\n",
              "      <td>YES</td>\n",
              "      <td>School/college</td>\n",
              "      <td>Relatives are not able to Help.</td>\n",
              "      <td>-1.0</td>\n",
              "      <td>Negative</td>\n",
              "    </tr>\n",
              "    <tr>\n",
              "      <th>8</th>\n",
              "      <td>9</td>\n",
              "      <td>Roorkee</td>\n",
              "      <td>16</td>\n",
              "      <td>High-School</td>\n",
              "      <td>4.0</td>\n",
              "      <td>Average</td>\n",
              "      <td>Smartphone</td>\n",
              "      <td>2.0</td>\n",
              "      <td>0.00</td>\n",
              "      <td>5.0</td>\n",
              "      <td>1.0</td>\n",
              "      <td>Youtube</td>\n",
              "      <td>1</td>\n",
              "      <td>3</td>\n",
              "      <td>Increased</td>\n",
              "      <td>NO</td>\n",
              "      <td>Online gaming</td>\n",
              "      <td>YES</td>\n",
              "      <td>NO</td>\n",
              "      <td>Travelling</td>\n",
              "      <td>Btech is all abot practical things…theory is n...</td>\n",
              "      <td>-0.5</td>\n",
              "      <td>Negative</td>\n",
              "    </tr>\n",
              "    <tr>\n",
              "      <th>9</th>\n",
              "      <td>10</td>\n",
              "      <td>Kanpur</td>\n",
              "      <td>22</td>\n",
              "      <td>Bachelor Degree</td>\n",
              "      <td>1.0</td>\n",
              "      <td>Very poor</td>\n",
              "      <td>Smartphone</td>\n",
              "      <td>4.0</td>\n",
              "      <td>0.25</td>\n",
              "      <td>10.0</td>\n",
              "      <td>1.0</td>\n",
              "      <td>Linkedin</td>\n",
              "      <td>0</td>\n",
              "      <td>3</td>\n",
              "      <td>Remain Constant</td>\n",
              "      <td>NO</td>\n",
              "      <td>Sleeping</td>\n",
              "      <td>NO</td>\n",
              "      <td>YES</td>\n",
              "      <td>.</td>\n",
              "      <td>I don't have laptop to study unable to attend ...</td>\n",
              "      <td>-1.0</td>\n",
              "      <td>Negative</td>\n",
              "    </tr>\n",
              "  </tbody>\n",
              "</table>\n",
              "</div>"
            ],
            "text/plain": [
              "   Resp ID Region of residence  ...  stanza_score stanza_sentiment\n",
              "0        1              Kanpur  ...          -1.0         Negative\n",
              "1        2             Kolkata  ...           0.0          Neutral\n",
              "2        3           Hyderabad  ...          -1.0         Negative\n",
              "3        4             Roorkee  ...          -1.0         Negative\n",
              "4        5              Kanpur  ...          -1.0         Negative\n",
              "5        6           Delhi-NCR  ...          -1.0         Negative\n",
              "6        7           Hyderabad  ...          -0.5         Negative\n",
              "7        8              Mumbai  ...          -1.0         Negative\n",
              "8        9             Roorkee  ...          -0.5         Negative\n",
              "9       10              Kanpur  ...          -1.0         Negative\n",
              "\n",
              "[10 rows x 23 columns]"
            ]
          },
          "metadata": {},
          "execution_count": 34
        }
      ]
    },
    {
      "cell_type": "code",
      "metadata": {
        "colab": {
          "base_uri": "https://localhost:8080/"
        },
        "id": "evlty0epJhIw",
        "outputId": "a6eaf1ca-2802-406d-99ff-e8ba7f813b6f"
      },
      "source": [
        "#getting number of Positive Sentiments\n",
        "len(tweet[tweet.stanza_sentiment=='Positive'])"
      ],
      "execution_count": 35,
      "outputs": [
        {
          "output_type": "execute_result",
          "data": {
            "text/plain": [
              "21"
            ]
          },
          "metadata": {},
          "execution_count": 35
        }
      ]
    },
    {
      "cell_type": "code",
      "metadata": {
        "colab": {
          "base_uri": "https://localhost:8080/"
        },
        "id": "kOLNtwsj3uy_",
        "outputId": "c1916e17-23a2-4115-d6e4-88fd99face9b"
      },
      "source": [
        "#getting number of Negative Sentiments\n",
        "len(tweet[tweet.stanza_sentiment=='Negative'])"
      ],
      "execution_count": 36,
      "outputs": [
        {
          "output_type": "execute_result",
          "data": {
            "text/plain": [
              "1007"
            ]
          },
          "metadata": {},
          "execution_count": 36
        }
      ]
    },
    {
      "cell_type": "code",
      "metadata": {
        "colab": {
          "base_uri": "https://localhost:8080/"
        },
        "id": "uxVHIoZH3x-R",
        "outputId": "27f8e25d-bf42-4130-a076-06e29ea1b7f7"
      },
      "source": [
        "#getting number of Neutral Sentiments\n",
        "len(tweet[tweet.stanza_sentiment=='Neutral'])"
      ],
      "execution_count": 37,
      "outputs": [
        {
          "output_type": "execute_result",
          "data": {
            "text/plain": [
              "154"
            ]
          },
          "metadata": {},
          "execution_count": 37
        }
      ]
    },
    {
      "cell_type": "markdown",
      "metadata": {
        "id": "rYy2Sjg_CoyA"
      },
      "source": [
        "Sentiment Analysis through NLTK Vader\n"
      ]
    },
    {
      "cell_type": "code",
      "metadata": {
        "id": "yJgswMjnCjFB"
      },
      "source": [
        "import pandas as pd\n",
        "import numpy as np\n",
        "import matplotlib.pyplot as plt\n",
        "import nltk\n",
        "from nltk.sentiment.vader import SentimentIntensityAnalyzer\n",
        "import warnings\n",
        "warnings.filterwarnings('ignore')"
      ],
      "execution_count": 38,
      "outputs": []
    },
    {
      "cell_type": "code",
      "metadata": {
        "colab": {
          "base_uri": "https://localhost:8080/"
        },
        "id": "ntAL_Hn1CjXd",
        "outputId": "ed053704-6205-4736-a75d-f370209ed1c6"
      },
      "source": [
        "import nltk\n",
        "nltk.download('vader_lexicon')\n",
        "sent= SentimentIntensityAnalyzer() #creating an object/ instance"
      ],
      "execution_count": 39,
      "outputs": [
        {
          "output_type": "stream",
          "name": "stderr",
          "text": [
            "[nltk_data] Downloading package vader_lexicon to /root/nltk_data...\n",
            "[nltk_data]   Package vader_lexicon is already up-to-date!\n"
          ]
        }
      ]
    },
    {
      "cell_type": "code",
      "metadata": {
        "colab": {
          "base_uri": "https://localhost:8080/"
        },
        "id": "r5sBLfF1CjZg",
        "outputId": "76f1f978-c562-44b1-f8ae-6ecf851c41aa"
      },
      "source": [
        "sent.polarity_scores('Vaccine is very effective')\n",
        "#sentence seems to be very positve lets check it with Vader\n",
        "# Negative: Neg, Positive: Pos, Compound= Overall score"
      ],
      "execution_count": 40,
      "outputs": [
        {
          "output_type": "execute_result",
          "data": {
            "text/plain": [
              "{'compound': 0.5256, 'neg': 0.0, 'neu': 0.469, 'pos': 0.531}"
            ]
          },
          "metadata": {},
          "execution_count": 40
        }
      ]
    },
    {
      "cell_type": "code",
      "metadata": {
        "colab": {
          "base_uri": "https://localhost:8080/"
        },
        "id": "dWHNiBoyCj2-",
        "outputId": "36892dda-516b-412f-f642-1e11bc1afc9d"
      },
      "source": [
        "sent.polarity_scores('Vaccine is bad, lots of side effects')"
      ],
      "execution_count": 41,
      "outputs": [
        {
          "output_type": "execute_result",
          "data": {
            "text/plain": [
              "{'compound': -0.5423, 'neg': 0.368, 'neu': 0.632, 'pos': 0.0}"
            ]
          },
          "metadata": {},
          "execution_count": 41
        }
      ]
    },
    {
      "cell_type": "code",
      "metadata": {
        "colab": {
          "base_uri": "https://localhost:8080/"
        },
        "id": "GIfjCu0Irll6",
        "outputId": "9f3947f9-c7a8-4ee1-f18d-e77b7ea258b2"
      },
      "source": [
        "sent.polarity_scores('is Covaxin has approval WHO')"
      ],
      "execution_count": 42,
      "outputs": [
        {
          "output_type": "execute_result",
          "data": {
            "text/plain": [
              "{'compound': 0.4767, 'neg': 0.0, 'neu': 0.563, 'pos': 0.437}"
            ]
          },
          "metadata": {},
          "execution_count": 42
        }
      ]
    },
    {
      "cell_type": "code",
      "metadata": {
        "colab": {
          "base_uri": "https://localhost:8080/",
          "height": 802
        },
        "id": "Vs7IFgXJCj6E",
        "outputId": "96b137b2-6ce0-440b-b97f-a29ee9a80966"
      },
      "source": [
        "clean_text=pd.read_csv('Responses.csv') #loading the cleantext file\n",
        "#clean_text.rename(columns={clean_text.columns[1]  :\"Cleaned_Text\"}, inplace = True ) \n",
        "clean_text.head(5)"
      ],
      "execution_count": 43,
      "outputs": [
        {
          "output_type": "execute_result",
          "data": {
            "text/html": [
              "<div>\n",
              "<style scoped>\n",
              "    .dataframe tbody tr th:only-of-type {\n",
              "        vertical-align: middle;\n",
              "    }\n",
              "\n",
              "    .dataframe tbody tr th {\n",
              "        vertical-align: top;\n",
              "    }\n",
              "\n",
              "    .dataframe thead th {\n",
              "        text-align: right;\n",
              "    }\n",
              "</style>\n",
              "<table border=\"1\" class=\"dataframe\">\n",
              "  <thead>\n",
              "    <tr style=\"text-align: right;\">\n",
              "      <th></th>\n",
              "      <th>Resp ID</th>\n",
              "      <th>Region of residence</th>\n",
              "      <th>Age</th>\n",
              "      <th>You are?(Education)</th>\n",
              "      <th>Time spent on Online Class</th>\n",
              "      <th>Rating of Online Class experience</th>\n",
              "      <th>Medium for online class</th>\n",
              "      <th>Time spent on self study</th>\n",
              "      <th>Time spent on fitness</th>\n",
              "      <th>Time spent on sleep</th>\n",
              "      <th>Time spent on social media</th>\n",
              "      <th>Prefered social media platform</th>\n",
              "      <th>Time spent on TV</th>\n",
              "      <th>Number of meals per day</th>\n",
              "      <th>Change in your weight</th>\n",
              "      <th>Health issue during lockdown</th>\n",
              "      <th>Stress busters</th>\n",
              "      <th>Time utilized</th>\n",
              "      <th>Do you find yourself more connected with your family, close friends , relatives  ?</th>\n",
              "      <th>What you miss the most</th>\n",
              "      <th>Responses</th>\n",
              "    </tr>\n",
              "  </thead>\n",
              "  <tbody>\n",
              "    <tr>\n",
              "      <th>0</th>\n",
              "      <td>1</td>\n",
              "      <td>Kanpur</td>\n",
              "      <td>14</td>\n",
              "      <td>High-School</td>\n",
              "      <td>3.0</td>\n",
              "      <td>Good</td>\n",
              "      <td>Smartphone or Laptop/Desktop</td>\n",
              "      <td>2.0</td>\n",
              "      <td>0.0</td>\n",
              "      <td>6.0</td>\n",
              "      <td>1.0</td>\n",
              "      <td>Whatsapp</td>\n",
              "      <td>1</td>\n",
              "      <td>1</td>\n",
              "      <td>Increased</td>\n",
              "      <td>NO</td>\n",
              "      <td>Listening to music</td>\n",
              "      <td>YES</td>\n",
              "      <td>YES</td>\n",
              "      <td>School/college</td>\n",
              "      <td>Who will responsible for students carrier beca...</td>\n",
              "    </tr>\n",
              "    <tr>\n",
              "      <th>1</th>\n",
              "      <td>2</td>\n",
              "      <td>Kolkata</td>\n",
              "      <td>23</td>\n",
              "      <td>Bachelor Degree</td>\n",
              "      <td>5.0</td>\n",
              "      <td>Average</td>\n",
              "      <td>Smartphone</td>\n",
              "      <td>5.0</td>\n",
              "      <td>1.0</td>\n",
              "      <td>8.0</td>\n",
              "      <td>1.0</td>\n",
              "      <td>Whatsapp</td>\n",
              "      <td>2</td>\n",
              "      <td>3</td>\n",
              "      <td>Remain Constant</td>\n",
              "      <td>NO</td>\n",
              "      <td>gardening cartoon</td>\n",
              "      <td>YES</td>\n",
              "      <td>YES</td>\n",
              "      <td>Roaming around freely</td>\n",
              "      <td>Taking ongoing online classes is quite tedious...</td>\n",
              "    </tr>\n",
              "    <tr>\n",
              "      <th>2</th>\n",
              "      <td>3</td>\n",
              "      <td>Hyderabad</td>\n",
              "      <td>13</td>\n",
              "      <td>Secondary</td>\n",
              "      <td>3.0</td>\n",
              "      <td>Excellent</td>\n",
              "      <td>Smartphone</td>\n",
              "      <td>2.0</td>\n",
              "      <td>0.0</td>\n",
              "      <td>8.0</td>\n",
              "      <td>1.0</td>\n",
              "      <td>Youtube</td>\n",
              "      <td>0</td>\n",
              "      <td>3</td>\n",
              "      <td>Remain Constant</td>\n",
              "      <td>NO</td>\n",
              "      <td>Listening to music</td>\n",
              "      <td>YES</td>\n",
              "      <td>YES</td>\n",
              "      <td>Friends , relatives</td>\n",
              "      <td>Financial problem no network coverage</td>\n",
              "    </tr>\n",
              "    <tr>\n",
              "      <th>3</th>\n",
              "      <td>4</td>\n",
              "      <td>Roorkee</td>\n",
              "      <td>13</td>\n",
              "      <td>Secondary</td>\n",
              "      <td>4.0</td>\n",
              "      <td>Good</td>\n",
              "      <td>Smartphone</td>\n",
              "      <td>4.0</td>\n",
              "      <td>1.0</td>\n",
              "      <td>8.0</td>\n",
              "      <td>1.0</td>\n",
              "      <td>Whatsapp</td>\n",
              "      <td>2</td>\n",
              "      <td>3</td>\n",
              "      <td>Decreased</td>\n",
              "      <td>NO</td>\n",
              "      <td>Reading</td>\n",
              "      <td>YES</td>\n",
              "      <td>YES</td>\n",
              "      <td>School/college</td>\n",
              "      <td>In this pandemic no hope from anyone nobody ca...</td>\n",
              "    </tr>\n",
              "    <tr>\n",
              "      <th>4</th>\n",
              "      <td>5</td>\n",
              "      <td>Kanpur</td>\n",
              "      <td>19</td>\n",
              "      <td>Intermediate</td>\n",
              "      <td>4.0</td>\n",
              "      <td>Very poor</td>\n",
              "      <td>Laptop/Desktop</td>\n",
              "      <td>3.0</td>\n",
              "      <td>1.0</td>\n",
              "      <td>8.0</td>\n",
              "      <td>3.0</td>\n",
              "      <td>Whatsapp</td>\n",
              "      <td>2</td>\n",
              "      <td>3</td>\n",
              "      <td>Increased</td>\n",
              "      <td>NO</td>\n",
              "      <td>Meditation</td>\n",
              "      <td>YES</td>\n",
              "      <td>YES</td>\n",
              "      <td>School/college</td>\n",
              "      <td>however my college is not helping/ demanding f...</td>\n",
              "    </tr>\n",
              "  </tbody>\n",
              "</table>\n",
              "</div>"
            ],
            "text/plain": [
              "   Resp ID  ...                                          Responses\n",
              "0        1  ...  Who will responsible for students carrier beca...\n",
              "1        2  ...  Taking ongoing online classes is quite tedious...\n",
              "2        3  ...             Financial problem no network coverage \n",
              "3        4  ...  In this pandemic no hope from anyone nobody ca...\n",
              "4        5  ...  however my college is not helping/ demanding f...\n",
              "\n",
              "[5 rows x 21 columns]"
            ]
          },
          "metadata": {},
          "execution_count": 43
        }
      ]
    },
    {
      "cell_type": "code",
      "metadata": {
        "colab": {
          "base_uri": "https://localhost:8080/"
        },
        "id": "uWy-KeAACj8y",
        "outputId": "ebe0e151-3b6f-4c05-d577-d4cfdf7efa72"
      },
      "source": [
        "clean_text.shape"
      ],
      "execution_count": 44,
      "outputs": [
        {
          "output_type": "execute_result",
          "data": {
            "text/plain": [
              "(1182, 21)"
            ]
          },
          "metadata": {},
          "execution_count": 44
        }
      ]
    },
    {
      "cell_type": "code",
      "metadata": {
        "id": "hD-Yp6adCj_o"
      },
      "source": [
        "compound_score=[]\n",
        "positive_score=[]\n",
        "negative_score=[]\n",
        "for i in range(0,clean_text.shape[0]):\n",
        "    score=sent.polarity_scores(clean_text.iloc[i][20]) # this[20 for selecting the Responses column\n",
        "    score1= score['compound'] #getting the compund score\n",
        "    compound_score.append(score1) #adding into compound score list\n",
        "    score2= score['pos']\n",
        "    positive_score.append(score2)\n",
        "    score3= score['neg']\n",
        "    negative_score.append(score3)"
      ],
      "execution_count": 45,
      "outputs": []
    },
    {
      "cell_type": "code",
      "metadata": {
        "id": "KT9I3oMyCkC0"
      },
      "source": [
        "#adding the generated score into original dataframe\n",
        "clean_text['Compond_Score']=  compound_score\n",
        "clean_text['Positive_Score']= positive_score\n",
        "clean_text['Negative_Score']= negative_score"
      ],
      "execution_count": 46,
      "outputs": []
    },
    {
      "cell_type": "code",
      "metadata": {
        "colab": {
          "base_uri": "https://localhost:8080/",
          "height": 802
        },
        "id": "3KP4qqVWCkFS",
        "outputId": "4f4d8f99-86d8-4e97-9965-c80b8bad97f5"
      },
      "source": [
        "clean_text.head(5)"
      ],
      "execution_count": 47,
      "outputs": [
        {
          "output_type": "execute_result",
          "data": {
            "text/html": [
              "<div>\n",
              "<style scoped>\n",
              "    .dataframe tbody tr th:only-of-type {\n",
              "        vertical-align: middle;\n",
              "    }\n",
              "\n",
              "    .dataframe tbody tr th {\n",
              "        vertical-align: top;\n",
              "    }\n",
              "\n",
              "    .dataframe thead th {\n",
              "        text-align: right;\n",
              "    }\n",
              "</style>\n",
              "<table border=\"1\" class=\"dataframe\">\n",
              "  <thead>\n",
              "    <tr style=\"text-align: right;\">\n",
              "      <th></th>\n",
              "      <th>Resp ID</th>\n",
              "      <th>Region of residence</th>\n",
              "      <th>Age</th>\n",
              "      <th>You are?(Education)</th>\n",
              "      <th>Time spent on Online Class</th>\n",
              "      <th>Rating of Online Class experience</th>\n",
              "      <th>Medium for online class</th>\n",
              "      <th>Time spent on self study</th>\n",
              "      <th>Time spent on fitness</th>\n",
              "      <th>Time spent on sleep</th>\n",
              "      <th>Time spent on social media</th>\n",
              "      <th>Prefered social media platform</th>\n",
              "      <th>Time spent on TV</th>\n",
              "      <th>Number of meals per day</th>\n",
              "      <th>Change in your weight</th>\n",
              "      <th>Health issue during lockdown</th>\n",
              "      <th>Stress busters</th>\n",
              "      <th>Time utilized</th>\n",
              "      <th>Do you find yourself more connected with your family, close friends , relatives  ?</th>\n",
              "      <th>What you miss the most</th>\n",
              "      <th>Responses</th>\n",
              "      <th>Compond_Score</th>\n",
              "      <th>Positive_Score</th>\n",
              "      <th>Negative_Score</th>\n",
              "    </tr>\n",
              "  </thead>\n",
              "  <tbody>\n",
              "    <tr>\n",
              "      <th>0</th>\n",
              "      <td>1</td>\n",
              "      <td>Kanpur</td>\n",
              "      <td>14</td>\n",
              "      <td>High-School</td>\n",
              "      <td>3.0</td>\n",
              "      <td>Good</td>\n",
              "      <td>Smartphone or Laptop/Desktop</td>\n",
              "      <td>2.0</td>\n",
              "      <td>0.0</td>\n",
              "      <td>6.0</td>\n",
              "      <td>1.0</td>\n",
              "      <td>Whatsapp</td>\n",
              "      <td>1</td>\n",
              "      <td>1</td>\n",
              "      <td>Increased</td>\n",
              "      <td>NO</td>\n",
              "      <td>Listening to music</td>\n",
              "      <td>YES</td>\n",
              "      <td>YES</td>\n",
              "      <td>School/college</td>\n",
              "      <td>Who will responsible for students carrier beca...</td>\n",
              "      <td>0.1280</td>\n",
              "      <td>0.224</td>\n",
              "      <td>0.208</td>\n",
              "    </tr>\n",
              "    <tr>\n",
              "      <th>1</th>\n",
              "      <td>2</td>\n",
              "      <td>Kolkata</td>\n",
              "      <td>23</td>\n",
              "      <td>Bachelor Degree</td>\n",
              "      <td>5.0</td>\n",
              "      <td>Average</td>\n",
              "      <td>Smartphone</td>\n",
              "      <td>5.0</td>\n",
              "      <td>1.0</td>\n",
              "      <td>8.0</td>\n",
              "      <td>1.0</td>\n",
              "      <td>Whatsapp</td>\n",
              "      <td>2</td>\n",
              "      <td>3</td>\n",
              "      <td>Remain Constant</td>\n",
              "      <td>NO</td>\n",
              "      <td>gardening cartoon</td>\n",
              "      <td>YES</td>\n",
              "      <td>YES</td>\n",
              "      <td>Roaming around freely</td>\n",
              "      <td>Taking ongoing online classes is quite tedious...</td>\n",
              "      <td>0.4767</td>\n",
              "      <td>0.180</td>\n",
              "      <td>0.075</td>\n",
              "    </tr>\n",
              "    <tr>\n",
              "      <th>2</th>\n",
              "      <td>3</td>\n",
              "      <td>Hyderabad</td>\n",
              "      <td>13</td>\n",
              "      <td>Secondary</td>\n",
              "      <td>3.0</td>\n",
              "      <td>Excellent</td>\n",
              "      <td>Smartphone</td>\n",
              "      <td>2.0</td>\n",
              "      <td>0.0</td>\n",
              "      <td>8.0</td>\n",
              "      <td>1.0</td>\n",
              "      <td>Youtube</td>\n",
              "      <td>0</td>\n",
              "      <td>3</td>\n",
              "      <td>Remain Constant</td>\n",
              "      <td>NO</td>\n",
              "      <td>Listening to music</td>\n",
              "      <td>YES</td>\n",
              "      <td>YES</td>\n",
              "      <td>Friends , relatives</td>\n",
              "      <td>Financial problem no network coverage</td>\n",
              "      <td>-0.5994</td>\n",
              "      <td>0.000</td>\n",
              "      <td>0.620</td>\n",
              "    </tr>\n",
              "    <tr>\n",
              "      <th>3</th>\n",
              "      <td>4</td>\n",
              "      <td>Roorkee</td>\n",
              "      <td>13</td>\n",
              "      <td>Secondary</td>\n",
              "      <td>4.0</td>\n",
              "      <td>Good</td>\n",
              "      <td>Smartphone</td>\n",
              "      <td>4.0</td>\n",
              "      <td>1.0</td>\n",
              "      <td>8.0</td>\n",
              "      <td>1.0</td>\n",
              "      <td>Whatsapp</td>\n",
              "      <td>2</td>\n",
              "      <td>3</td>\n",
              "      <td>Decreased</td>\n",
              "      <td>NO</td>\n",
              "      <td>Reading</td>\n",
              "      <td>YES</td>\n",
              "      <td>YES</td>\n",
              "      <td>School/college</td>\n",
              "      <td>In this pandemic no hope from anyone nobody ca...</td>\n",
              "      <td>0.1779</td>\n",
              "      <td>0.238</td>\n",
              "      <td>0.209</td>\n",
              "    </tr>\n",
              "    <tr>\n",
              "      <th>4</th>\n",
              "      <td>5</td>\n",
              "      <td>Kanpur</td>\n",
              "      <td>19</td>\n",
              "      <td>Intermediate</td>\n",
              "      <td>4.0</td>\n",
              "      <td>Very poor</td>\n",
              "      <td>Laptop/Desktop</td>\n",
              "      <td>3.0</td>\n",
              "      <td>1.0</td>\n",
              "      <td>8.0</td>\n",
              "      <td>3.0</td>\n",
              "      <td>Whatsapp</td>\n",
              "      <td>2</td>\n",
              "      <td>3</td>\n",
              "      <td>Increased</td>\n",
              "      <td>NO</td>\n",
              "      <td>Meditation</td>\n",
              "      <td>YES</td>\n",
              "      <td>YES</td>\n",
              "      <td>School/college</td>\n",
              "      <td>however my college is not helping/ demanding f...</td>\n",
              "      <td>-0.5321</td>\n",
              "      <td>0.080</td>\n",
              "      <td>0.197</td>\n",
              "    </tr>\n",
              "  </tbody>\n",
              "</table>\n",
              "</div>"
            ],
            "text/plain": [
              "   Resp ID Region of residence  ...  Positive_Score Negative_Score\n",
              "0        1              Kanpur  ...           0.224          0.208\n",
              "1        2             Kolkata  ...           0.180          0.075\n",
              "2        3           Hyderabad  ...           0.000          0.620\n",
              "3        4             Roorkee  ...           0.238          0.209\n",
              "4        5              Kanpur  ...           0.080          0.197\n",
              "\n",
              "[5 rows x 24 columns]"
            ]
          },
          "metadata": {},
          "execution_count": 47
        }
      ]
    },
    {
      "cell_type": "code",
      "metadata": {
        "colab": {
          "base_uri": "https://localhost:8080/"
        },
        "id": "Z1kWFxEVCkXZ",
        "outputId": "540e643f-0668-4ebb-ab2c-f7c5e4950b5a"
      },
      "source": [
        "#getting number of Positive Sentiments\n",
        "len(clean_text[clean_text.Compond_Score > 0])"
      ],
      "execution_count": 48,
      "outputs": [
        {
          "output_type": "execute_result",
          "data": {
            "text/plain": [
              "241"
            ]
          },
          "metadata": {},
          "execution_count": 48
        }
      ]
    },
    {
      "cell_type": "code",
      "metadata": {
        "colab": {
          "base_uri": "https://localhost:8080/"
        },
        "id": "M8EvMvSiCkZr",
        "outputId": "96d06113-a65b-453e-c6a3-5b52ebb5fa5a"
      },
      "source": [
        "#getting number of Negative Sentiments\n",
        "len(clean_text[clean_text.Compond_Score < 0])"
      ],
      "execution_count": 49,
      "outputs": [
        {
          "output_type": "execute_result",
          "data": {
            "text/plain": [
              "773"
            ]
          },
          "metadata": {},
          "execution_count": 49
        }
      ]
    },
    {
      "cell_type": "code",
      "metadata": {
        "colab": {
          "base_uri": "https://localhost:8080/"
        },
        "id": "OVZ93zI7Ckb4",
        "outputId": "a55668ee-929a-4cd4-8061-751956f804e0"
      },
      "source": [
        "#getting number of Neutral Sentiments\n",
        "len(clean_text[clean_text.Compond_Score == 0])"
      ],
      "execution_count": 50,
      "outputs": [
        {
          "output_type": "execute_result",
          "data": {
            "text/plain": [
              "168"
            ]
          },
          "metadata": {},
          "execution_count": 50
        }
      ]
    },
    {
      "cell_type": "markdown",
      "metadata": {
        "id": "pcYhCk6AViRo"
      },
      "source": [
        "**Comparison**"
      ]
    },
    {
      "cell_type": "code",
      "metadata": {
        "colab": {
          "base_uri": "https://localhost:8080/",
          "height": 337
        },
        "id": "QOCO-B8hVPwx",
        "outputId": "b25cb5c1-d1d4-48ba-8159-c89154b30058"
      },
      "source": [
        "import numpy as np\n",
        "import matplotlib.pyplot as plt\n",
        "\n",
        "# set width of bar\n",
        "barWidth = 0.25\n",
        "fig = plt.subplots(figsize =(8, 5))\n",
        "\n",
        "# set height of bar\n",
        "TextBlob = [239, 299, 644]\n",
        "Vader = [241, 773, 168]\n",
        "Stanza = [21, 1007, 154]\n",
        "\n",
        "# Set position of bar on X axis\n",
        "br1 = np.arange(len(TextBlob))\n",
        "br2 = [x + barWidth for x in br1]\n",
        "br3 = [x + barWidth for x in br2]\n",
        "\n",
        "# Make the plot\n",
        "plt.bar(br1, TextBlob, width = barWidth,\n",
        "\t\tedgecolor ='grey', label ='TextBlob')\n",
        "plt.bar(br2, Vader, width = barWidth,\n",
        "\t\tedgecolor ='grey', label ='Vader')\n",
        "plt.bar(br3, Stanza, width = barWidth,\n",
        "\t\tedgecolor ='grey', label ='Stanza')\n",
        "\n",
        "# Adding Xticks\n",
        "plt.xlabel('Class', fontsize = 13)\n",
        "plt.ylabel('Sentiments', fontsize = 13)\n",
        "plt.xticks([r + barWidth for r in range(len(TextBlob))],\n",
        "\t\t['Positive', 'Negative', 'Neutral'])\n",
        "\n",
        "plt.legend()\n",
        "plt.show()\n"
      ],
      "execution_count": 51,
      "outputs": [
        {
          "output_type": "display_data",
          "data": {
            "image/png": "[encoded data removed]",
            "text/plain": [
              "<Figure size 576x360 with 1 Axes>"
            ]
          },
          "metadata": {
            "needs_background": "light"
          }
        }
      ]
    }
  ]
}